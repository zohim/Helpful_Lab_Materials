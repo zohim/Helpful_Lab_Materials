{
  "cells": [
    {
      "cell_type": "markdown",
      "metadata": {
        "id": "view-in-github",
        "colab_type": "text"
      },
      "source": [
        "<a href=\"https://colab.research.google.com/github/zohim/Helpful_Lab_Materials/blob/master/SRB_63_PPanGGOLiN_Collab.ipynb\" target=\"_parent\"><img src=\"https://colab.research.google.com/assets/colab-badge.svg\" alt=\"Open In Colab\"/></a>"
      ]
    },
    {
      "cell_type": "markdown",
      "metadata": {
        "id": "jBDYCNhTczuL"
      },
      "source": [
        "# PPanGGOLiN\n",
        "Step 1,2 in order; step 3,4 and 5 on anorder"
      ]
    },
    {
      "cell_type": "markdown",
      "metadata": {
        "id": "QMnaUFoKc63c"
      },
      "source": [
        "**1.Get PPanGGOLiN on github**\n",
        "\n",
        "---\n",
        "\n"
      ]
    },
    {
      "cell_type": "code",
      "execution_count": null,
      "metadata": {
        "colab": {
          "base_uri": "https://localhost:8080/"
        },
        "id": "kt3jSE68dBF5",
        "outputId": "eaa4d3ed-31f4-47de-c9ca-0cbb95601c7f"
      },
      "outputs": [
        {
          "output_type": "stream",
          "name": "stdout",
          "text": [
            "env: PYTHONPATH=\n",
            "fatal: destination path 'PPanGGOLiN' already exists and is not an empty directory.\n",
            "/content/PPanGGOLiN\n",
            "running install\n",
            "running bdist_egg\n",
            "running egg_info\n",
            "writing ppanggolin.egg-info/PKG-INFO\n",
            "writing dependency_links to ppanggolin.egg-info/dependency_links.txt\n",
            "writing entry points to ppanggolin.egg-info/entry_points.txt\n",
            "writing top-level names to ppanggolin.egg-info/top_level.txt\n",
            "reading manifest template 'MANIFEST.in'\n",
            "adding license file 'LICENSE.txt'\n",
            "writing manifest file 'ppanggolin.egg-info/SOURCES.txt'\n",
            "installing library code to build/bdist.linux-x86_64/egg\n",
            "running install_lib\n",
            "running build_py\n",
            "running build_ext\n",
            "skipping 'ppanggolin/nem/NEM/nem_stats.c' Cython extension (up-to-date)\n",
            "creating build/bdist.linux-x86_64/egg\n",
            "copying build/lib.linux-x86_64-3.7/nem_stats.cpython-37m-x86_64-linux-gnu.so -> build/bdist.linux-x86_64/egg\n",
            "creating build/bdist.linux-x86_64/egg/ppanggolin\n",
            "copying build/lib.linux-x86_64-3.7/ppanggolin/main.py -> build/bdist.linux-x86_64/egg/ppanggolin\n",
            "copying build/lib.linux-x86_64-3.7/ppanggolin/pangenome.py -> build/bdist.linux-x86_64/egg/ppanggolin\n",
            "creating build/bdist.linux-x86_64/egg/ppanggolin/workflow\n",
            "copying build/lib.linux-x86_64-3.7/ppanggolin/workflow/workflow.py -> build/bdist.linux-x86_64/egg/ppanggolin/workflow\n",
            "copying build/lib.linux-x86_64-3.7/ppanggolin/workflow/panRGP.py -> build/bdist.linux-x86_64/egg/ppanggolin/workflow\n",
            "copying build/lib.linux-x86_64-3.7/ppanggolin/workflow/all.py -> build/bdist.linux-x86_64/egg/ppanggolin/workflow\n",
            "copying build/lib.linux-x86_64-3.7/ppanggolin/workflow/panModule.py -> build/bdist.linux-x86_64/egg/ppanggolin/workflow\n",
            "copying build/lib.linux-x86_64-3.7/ppanggolin/workflow/__init__.py -> build/bdist.linux-x86_64/egg/ppanggolin/workflow\n",
            "creating build/bdist.linux-x86_64/egg/ppanggolin/RGP\n",
            "copying build/lib.linux-x86_64-3.7/ppanggolin/RGP/genomicIsland.py -> build/bdist.linux-x86_64/egg/ppanggolin/RGP\n",
            "copying build/lib.linux-x86_64-3.7/ppanggolin/RGP/spot.py -> build/bdist.linux-x86_64/egg/ppanggolin/RGP\n",
            "copying build/lib.linux-x86_64-3.7/ppanggolin/RGP/__init__.py -> build/bdist.linux-x86_64/egg/ppanggolin/RGP\n",
            "copying build/lib.linux-x86_64-3.7/ppanggolin/genetic_codes.py -> build/bdist.linux-x86_64/egg/ppanggolin\n",
            "creating build/bdist.linux-x86_64/egg/ppanggolin/nem\n",
            "copying build/lib.linux-x86_64-3.7/ppanggolin/nem/rarefaction.py -> build/bdist.linux-x86_64/egg/ppanggolin/nem\n",
            "copying build/lib.linux-x86_64-3.7/ppanggolin/nem/partition.py -> build/bdist.linux-x86_64/egg/ppanggolin/nem\n",
            "copying build/lib.linux-x86_64-3.7/ppanggolin/nem/__init__.py -> build/bdist.linux-x86_64/egg/ppanggolin/nem\n",
            "creating build/bdist.linux-x86_64/egg/ppanggolin/annotate\n",
            "copying build/lib.linux-x86_64-3.7/ppanggolin/annotate/synta.py -> build/bdist.linux-x86_64/egg/ppanggolin/annotate\n",
            "creating build/bdist.linux-x86_64/egg/ppanggolin/annotate/rRNA_DB\n",
            "copying build/lib.linux-x86_64-3.7/ppanggolin/annotate/rRNA_DB/rRNA_bact.cm.i1i -> build/bdist.linux-x86_64/egg/ppanggolin/annotate/rRNA_DB\n",
            "copying build/lib.linux-x86_64-3.7/ppanggolin/annotate/rRNA_DB/rRNA_arch.cm.i1m -> build/bdist.linux-x86_64/egg/ppanggolin/annotate/rRNA_DB\n",
            "copying build/lib.linux-x86_64-3.7/ppanggolin/annotate/rRNA_DB/RF01959.cm -> build/bdist.linux-x86_64/egg/ppanggolin/annotate/rRNA_DB\n",
            "copying build/lib.linux-x86_64-3.7/ppanggolin/annotate/rRNA_DB/rRNA_arch.cm.i1i -> build/bdist.linux-x86_64/egg/ppanggolin/annotate/rRNA_DB\n",
            "copying build/lib.linux-x86_64-3.7/ppanggolin/annotate/rRNA_DB/RF02540.cm -> build/bdist.linux-x86_64/egg/ppanggolin/annotate/rRNA_DB\n",
            "copying build/lib.linux-x86_64-3.7/ppanggolin/annotate/rRNA_DB/rRNA_bact.cm.i1p -> build/bdist.linux-x86_64/egg/ppanggolin/annotate/rRNA_DB\n",
            "copying build/lib.linux-x86_64-3.7/ppanggolin/annotate/rRNA_DB/RF02541.cm -> build/bdist.linux-x86_64/egg/ppanggolin/annotate/rRNA_DB\n",
            "copying build/lib.linux-x86_64-3.7/ppanggolin/annotate/rRNA_DB/rRNA_bact.cm.i1m -> build/bdist.linux-x86_64/egg/ppanggolin/annotate/rRNA_DB\n",
            "copying build/lib.linux-x86_64-3.7/ppanggolin/annotate/rRNA_DB/rRNA_arch.cm -> build/bdist.linux-x86_64/egg/ppanggolin/annotate/rRNA_DB\n",
            "copying build/lib.linux-x86_64-3.7/ppanggolin/annotate/rRNA_DB/rRNA_arch.cm.i1f -> build/bdist.linux-x86_64/egg/ppanggolin/annotate/rRNA_DB\n",
            "copying build/lib.linux-x86_64-3.7/ppanggolin/annotate/rRNA_DB/rRNA_bact.cm.i1f -> build/bdist.linux-x86_64/egg/ppanggolin/annotate/rRNA_DB\n",
            "copying build/lib.linux-x86_64-3.7/ppanggolin/annotate/rRNA_DB/RF00001.cm -> build/bdist.linux-x86_64/egg/ppanggolin/annotate/rRNA_DB\n",
            "copying build/lib.linux-x86_64-3.7/ppanggolin/annotate/rRNA_DB/RF00177.cm -> build/bdist.linux-x86_64/egg/ppanggolin/annotate/rRNA_DB\n",
            "copying build/lib.linux-x86_64-3.7/ppanggolin/annotate/rRNA_DB/rRNA_bact.cm -> build/bdist.linux-x86_64/egg/ppanggolin/annotate/rRNA_DB\n",
            "copying build/lib.linux-x86_64-3.7/ppanggolin/annotate/rRNA_DB/rRNA_arch.cm.i1p -> build/bdist.linux-x86_64/egg/ppanggolin/annotate/rRNA_DB\n",
            "copying build/lib.linux-x86_64-3.7/ppanggolin/annotate/annotate.py -> build/bdist.linux-x86_64/egg/ppanggolin/annotate\n",
            "copying build/lib.linux-x86_64-3.7/ppanggolin/annotate/__init__.py -> build/bdist.linux-x86_64/egg/ppanggolin/annotate\n",
            "copying build/lib.linux-x86_64-3.7/ppanggolin/genome.py -> build/bdist.linux-x86_64/egg/ppanggolin\n",
            "creating build/bdist.linux-x86_64/egg/ppanggolin/mod\n",
            "copying build/lib.linux-x86_64-3.7/ppanggolin/mod/module.py -> build/bdist.linux-x86_64/egg/ppanggolin/mod\n",
            "copying build/lib.linux-x86_64-3.7/ppanggolin/mod/__init__.py -> build/bdist.linux-x86_64/egg/ppanggolin/mod\n",
            "creating build/bdist.linux-x86_64/egg/ppanggolin/info\n",
            "copying build/lib.linux-x86_64-3.7/ppanggolin/info/info.py -> build/bdist.linux-x86_64/egg/ppanggolin/info\n",
            "copying build/lib.linux-x86_64-3.7/ppanggolin/info/__init__.py -> build/bdist.linux-x86_64/egg/ppanggolin/info\n",
            "creating build/bdist.linux-x86_64/egg/ppanggolin/figures\n",
            "copying build/lib.linux-x86_64-3.7/ppanggolin/figures/drawing.py -> build/bdist.linux-x86_64/egg/ppanggolin/figures\n",
            "copying build/lib.linux-x86_64-3.7/ppanggolin/figures/tile_plot.py -> build/bdist.linux-x86_64/egg/ppanggolin/figures\n",
            "copying build/lib.linux-x86_64-3.7/ppanggolin/figures/ucurve.py -> build/bdist.linux-x86_64/egg/ppanggolin/figures\n",
            "copying build/lib.linux-x86_64-3.7/ppanggolin/figures/draw_spot.py -> build/bdist.linux-x86_64/egg/ppanggolin/figures\n",
            "copying build/lib.linux-x86_64-3.7/ppanggolin/figures/__init__.py -> build/bdist.linux-x86_64/egg/ppanggolin/figures\n",
            "creating build/bdist.linux-x86_64/egg/ppanggolin/cluster\n",
            "copying build/lib.linux-x86_64-3.7/ppanggolin/cluster/cluster.py -> build/bdist.linux-x86_64/egg/ppanggolin/cluster\n",
            "copying build/lib.linux-x86_64-3.7/ppanggolin/cluster/__init__.py -> build/bdist.linux-x86_64/egg/ppanggolin/cluster\n",
            "creating build/bdist.linux-x86_64/egg/ppanggolin/formats\n",
            "copying build/lib.linux-x86_64-3.7/ppanggolin/formats/writeSequences.py -> build/bdist.linux-x86_64/egg/ppanggolin/formats\n",
            "copying build/lib.linux-x86_64-3.7/ppanggolin/formats/writeMSA.py -> build/bdist.linux-x86_64/egg/ppanggolin/formats\n",
            "copying build/lib.linux-x86_64-3.7/ppanggolin/formats/writeBinaries.py -> build/bdist.linux-x86_64/egg/ppanggolin/formats\n",
            "copying build/lib.linux-x86_64-3.7/ppanggolin/formats/readBinaries.py -> build/bdist.linux-x86_64/egg/ppanggolin/formats\n",
            "copying build/lib.linux-x86_64-3.7/ppanggolin/formats/writeFlat.py -> build/bdist.linux-x86_64/egg/ppanggolin/formats\n",
            "copying build/lib.linux-x86_64-3.7/ppanggolin/formats/__init__.py -> build/bdist.linux-x86_64/egg/ppanggolin/formats\n",
            "copying build/lib.linux-x86_64-3.7/ppanggolin/utils.py -> build/bdist.linux-x86_64/egg/ppanggolin\n",
            "copying build/lib.linux-x86_64-3.7/ppanggolin/edge.py -> build/bdist.linux-x86_64/egg/ppanggolin\n",
            "creating build/bdist.linux-x86_64/egg/ppanggolin/graph\n",
            "copying build/lib.linux-x86_64-3.7/ppanggolin/graph/makeGraph.py -> build/bdist.linux-x86_64/egg/ppanggolin/graph\n",
            "copying build/lib.linux-x86_64-3.7/ppanggolin/graph/__init__.py -> build/bdist.linux-x86_64/egg/ppanggolin/graph\n",
            "creating build/bdist.linux-x86_64/egg/ppanggolin/metrics\n",
            "copying build/lib.linux-x86_64-3.7/ppanggolin/metrics/metrics.py -> build/bdist.linux-x86_64/egg/ppanggolin/metrics\n",
            "copying build/lib.linux-x86_64-3.7/ppanggolin/metrics/fluidity.py -> build/bdist.linux-x86_64/egg/ppanggolin/metrics\n",
            "copying build/lib.linux-x86_64-3.7/ppanggolin/metrics/__init__.py -> build/bdist.linux-x86_64/egg/ppanggolin/metrics\n",
            "creating build/bdist.linux-x86_64/egg/ppanggolin/context\n",
            "copying build/lib.linux-x86_64-3.7/ppanggolin/context/searchGeneContext.py -> build/bdist.linux-x86_64/egg/ppanggolin/context\n",
            "copying build/lib.linux-x86_64-3.7/ppanggolin/context/__init__.py -> build/bdist.linux-x86_64/egg/ppanggolin/context\n",
            "copying build/lib.linux-x86_64-3.7/ppanggolin/region.py -> build/bdist.linux-x86_64/egg/ppanggolin\n",
            "creating build/bdist.linux-x86_64/egg/ppanggolin/align\n",
            "copying build/lib.linux-x86_64-3.7/ppanggolin/align/alignOnPang.py -> build/bdist.linux-x86_64/egg/ppanggolin/align\n",
            "copying build/lib.linux-x86_64-3.7/ppanggolin/align/__init__.py -> build/bdist.linux-x86_64/egg/ppanggolin/align\n",
            "copying build/lib.linux-x86_64-3.7/ppanggolin/geneFamily.py -> build/bdist.linux-x86_64/egg/ppanggolin\n",
            "copying build/lib.linux-x86_64-3.7/ppanggolin/__init__.py -> build/bdist.linux-x86_64/egg/ppanggolin\n",
            "byte-compiling build/bdist.linux-x86_64/egg/ppanggolin/main.py to main.cpython-37.pyc\n",
            "byte-compiling build/bdist.linux-x86_64/egg/ppanggolin/pangenome.py to pangenome.cpython-37.pyc\n",
            "byte-compiling build/bdist.linux-x86_64/egg/ppanggolin/workflow/workflow.py to workflow.cpython-37.pyc\n",
            "byte-compiling build/bdist.linux-x86_64/egg/ppanggolin/workflow/panRGP.py to panRGP.cpython-37.pyc\n",
            "byte-compiling build/bdist.linux-x86_64/egg/ppanggolin/workflow/all.py to all.cpython-37.pyc\n",
            "byte-compiling build/bdist.linux-x86_64/egg/ppanggolin/workflow/panModule.py to panModule.cpython-37.pyc\n",
            "byte-compiling build/bdist.linux-x86_64/egg/ppanggolin/workflow/__init__.py to __init__.cpython-37.pyc\n",
            "byte-compiling build/bdist.linux-x86_64/egg/ppanggolin/RGP/genomicIsland.py to genomicIsland.cpython-37.pyc\n",
            "byte-compiling build/bdist.linux-x86_64/egg/ppanggolin/RGP/spot.py to spot.cpython-37.pyc\n",
            "byte-compiling build/bdist.linux-x86_64/egg/ppanggolin/RGP/__init__.py to __init__.cpython-37.pyc\n",
            "byte-compiling build/bdist.linux-x86_64/egg/ppanggolin/genetic_codes.py to genetic_codes.cpython-37.pyc\n",
            "byte-compiling build/bdist.linux-x86_64/egg/ppanggolin/nem/rarefaction.py to rarefaction.cpython-37.pyc\n",
            "byte-compiling build/bdist.linux-x86_64/egg/ppanggolin/nem/partition.py to partition.cpython-37.pyc\n",
            "byte-compiling build/bdist.linux-x86_64/egg/ppanggolin/nem/__init__.py to __init__.cpython-37.pyc\n",
            "byte-compiling build/bdist.linux-x86_64/egg/ppanggolin/annotate/synta.py to synta.cpython-37.pyc\n",
            "byte-compiling build/bdist.linux-x86_64/egg/ppanggolin/annotate/annotate.py to annotate.cpython-37.pyc\n",
            "byte-compiling build/bdist.linux-x86_64/egg/ppanggolin/annotate/__init__.py to __init__.cpython-37.pyc\n",
            "byte-compiling build/bdist.linux-x86_64/egg/ppanggolin/genome.py to genome.cpython-37.pyc\n",
            "byte-compiling build/bdist.linux-x86_64/egg/ppanggolin/mod/module.py to module.cpython-37.pyc\n",
            "byte-compiling build/bdist.linux-x86_64/egg/ppanggolin/mod/__init__.py to __init__.cpython-37.pyc\n",
            "byte-compiling build/bdist.linux-x86_64/egg/ppanggolin/info/info.py to info.cpython-37.pyc\n",
            "byte-compiling build/bdist.linux-x86_64/egg/ppanggolin/info/__init__.py to __init__.cpython-37.pyc\n",
            "byte-compiling build/bdist.linux-x86_64/egg/ppanggolin/figures/drawing.py to drawing.cpython-37.pyc\n",
            "byte-compiling build/bdist.linux-x86_64/egg/ppanggolin/figures/tile_plot.py to tile_plot.cpython-37.pyc\n",
            "byte-compiling build/bdist.linux-x86_64/egg/ppanggolin/figures/ucurve.py to ucurve.cpython-37.pyc\n",
            "byte-compiling build/bdist.linux-x86_64/egg/ppanggolin/figures/draw_spot.py to draw_spot.cpython-37.pyc\n",
            "byte-compiling build/bdist.linux-x86_64/egg/ppanggolin/figures/__init__.py to __init__.cpython-37.pyc\n",
            "byte-compiling build/bdist.linux-x86_64/egg/ppanggolin/cluster/cluster.py to cluster.cpython-37.pyc\n",
            "byte-compiling build/bdist.linux-x86_64/egg/ppanggolin/cluster/__init__.py to __init__.cpython-37.pyc\n",
            "byte-compiling build/bdist.linux-x86_64/egg/ppanggolin/formats/writeSequences.py to writeSequences.cpython-37.pyc\n",
            "byte-compiling build/bdist.linux-x86_64/egg/ppanggolin/formats/writeMSA.py to writeMSA.cpython-37.pyc\n",
            "byte-compiling build/bdist.linux-x86_64/egg/ppanggolin/formats/writeBinaries.py to writeBinaries.cpython-37.pyc\n",
            "byte-compiling build/bdist.linux-x86_64/egg/ppanggolin/formats/readBinaries.py to readBinaries.cpython-37.pyc\n",
            "byte-compiling build/bdist.linux-x86_64/egg/ppanggolin/formats/writeFlat.py to writeFlat.cpython-37.pyc\n",
            "byte-compiling build/bdist.linux-x86_64/egg/ppanggolin/formats/__init__.py to __init__.cpython-37.pyc\n",
            "byte-compiling build/bdist.linux-x86_64/egg/ppanggolin/utils.py to utils.cpython-37.pyc\n",
            "byte-compiling build/bdist.linux-x86_64/egg/ppanggolin/edge.py to edge.cpython-37.pyc\n",
            "byte-compiling build/bdist.linux-x86_64/egg/ppanggolin/graph/makeGraph.py to makeGraph.cpython-37.pyc\n",
            "byte-compiling build/bdist.linux-x86_64/egg/ppanggolin/graph/__init__.py to __init__.cpython-37.pyc\n",
            "byte-compiling build/bdist.linux-x86_64/egg/ppanggolin/metrics/metrics.py to metrics.cpython-37.pyc\n",
            "byte-compiling build/bdist.linux-x86_64/egg/ppanggolin/metrics/fluidity.py to fluidity.cpython-37.pyc\n",
            "byte-compiling build/bdist.linux-x86_64/egg/ppanggolin/metrics/__init__.py to __init__.cpython-37.pyc\n",
            "byte-compiling build/bdist.linux-x86_64/egg/ppanggolin/context/searchGeneContext.py to searchGeneContext.cpython-37.pyc\n",
            "byte-compiling build/bdist.linux-x86_64/egg/ppanggolin/context/__init__.py to __init__.cpython-37.pyc\n",
            "byte-compiling build/bdist.linux-x86_64/egg/ppanggolin/region.py to region.cpython-37.pyc\n",
            "byte-compiling build/bdist.linux-x86_64/egg/ppanggolin/align/alignOnPang.py to alignOnPang.cpython-37.pyc\n",
            "byte-compiling build/bdist.linux-x86_64/egg/ppanggolin/align/__init__.py to __init__.cpython-37.pyc\n",
            "byte-compiling build/bdist.linux-x86_64/egg/ppanggolin/geneFamily.py to geneFamily.cpython-37.pyc\n",
            "byte-compiling build/bdist.linux-x86_64/egg/ppanggolin/__init__.py to __init__.cpython-37.pyc\n",
            "creating stub loader for nem_stats.cpython-37m-x86_64-linux-gnu.so\n",
            "byte-compiling build/bdist.linux-x86_64/egg/nem_stats.py to nem_stats.cpython-37.pyc\n",
            "creating build/bdist.linux-x86_64/egg/EGG-INFO\n",
            "copying ppanggolin.egg-info/PKG-INFO -> build/bdist.linux-x86_64/egg/EGG-INFO\n",
            "copying ppanggolin.egg-info/SOURCES.txt -> build/bdist.linux-x86_64/egg/EGG-INFO\n",
            "copying ppanggolin.egg-info/dependency_links.txt -> build/bdist.linux-x86_64/egg/EGG-INFO\n",
            "copying ppanggolin.egg-info/entry_points.txt -> build/bdist.linux-x86_64/egg/EGG-INFO\n",
            "copying ppanggolin.egg-info/top_level.txt -> build/bdist.linux-x86_64/egg/EGG-INFO\n",
            "writing build/bdist.linux-x86_64/egg/EGG-INFO/native_libs.txt\n",
            "zip_safe flag not set; analyzing archive contents...\n",
            "__pycache__.nem_stats.cpython-37: module references __file__\n",
            "ppanggolin.annotate.__pycache__.synta.cpython-37: module references __file__\n",
            "creating 'dist/ppanggolin-1.2.78-py3.7-linux-x86_64.egg' and adding 'build/bdist.linux-x86_64/egg' to it\n",
            "removing 'build/bdist.linux-x86_64/egg' (and everything under it)\n",
            "Processing ppanggolin-1.2.78-py3.7-linux-x86_64.egg\n",
            "removing '/usr/local/lib/python3.7/dist-packages/ppanggolin-1.2.78-py3.7-linux-x86_64.egg' (and everything under it)\n",
            "creating /usr/local/lib/python3.7/dist-packages/ppanggolin-1.2.78-py3.7-linux-x86_64.egg\n",
            "Extracting ppanggolin-1.2.78-py3.7-linux-x86_64.egg to /usr/local/lib/python3.7/dist-packages\n",
            "ppanggolin 1.2.78 is already the active version in easy-install.pth\n",
            "Installing ppanggolin script to /usr/local/bin\n",
            "\n",
            "Installed /usr/local/lib/python3.7/dist-packages/ppanggolin-1.2.78-py3.7-linux-x86_64.egg\n",
            "Processing dependencies for ppanggolin==1.2.78\n",
            "Finished processing dependencies for ppanggolin==1.2.78\n"
          ]
        }
      ],
      "source": [
        "%env PYTHONPATH=\n",
        "!git clone https://github.com/labgem/PPanGGOLiN.git\n",
        "%cd /content/PPanGGOLiN/\n",
        "!python setup.py install"
      ]
    },
    {
      "cell_type": "code",
      "execution_count": null,
      "metadata": {
        "colab": {
          "base_uri": "https://localhost:8080/"
        },
        "id": "PIl5uO_ZK8No",
        "outputId": "5deeaa9f-6df2-441c-b203-8c5b0611f7c5"
      },
      "outputs": [
        {
          "output_type": "stream",
          "name": "stdout",
          "text": [
            "Drive already mounted at /content/drive; to attempt to forcibly remount, call drive.mount(\"/content/drive\", force_remount=True).\n"
          ]
        }
      ],
      "source": [
        "# Mount your drive in collab (for dataset loading)\n",
        "from google.colab import drive\n",
        "drive.mount('/content/drive')"
      ]
    },
    {
      "cell_type": "markdown",
      "metadata": {
        "id": "ZMOzPooZdX5I"
      },
      "source": [
        "**2.Install requirements : Anaconda**\n",
        "\n",
        "---\n",
        "\n"
      ]
    },
    {
      "cell_type": "code",
      "execution_count": null,
      "metadata": {
        "colab": {
          "base_uri": "https://localhost:8080/"
        },
        "id": "7tTQvYYWe21R",
        "outputId": "fc3d5779-d596-4972-da18-79a587198020"
      },
      "outputs": [
        {
          "output_type": "stream",
          "name": "stdout",
          "text": [
            "conda 4.12.0\n"
          ]
        }
      ],
      "source": [
        "#a. Install Annaconda\n",
        "%%bash\n",
        "#cd /content/PPanGGOLiN/\n",
        "# Download and install miniconda\n",
        "apt-get install libssl-dev > /dev/null\n",
        "wget https://repo.continuum.io/miniconda/Miniconda3-latest-Linux-x86_64.sh &>/dev/null\n",
        "chmod +x ./Miniconda3-latest-Linux-x86_64.sh\n",
        "./Miniconda3-latest-Linux-x86_64.sh -b &>/dev/null\n",
        "install /root/miniconda3/bin/conda /usr/bin/conda &>/dev/null\n",
        "conda -V"
      ]
    },
    {
      "cell_type": "code",
      "execution_count": null,
      "metadata": {
        "colab": {
          "base_uri": "https://localhost:8080/"
        },
        "id": "rLFZFqr1obIW",
        "outputId": "0c3786ac-d3e5-4d83-c201-d13133f7e886"
      },
      "outputs": [
        {
          "output_type": "stream",
          "name": "stdout",
          "text": [
            "\r0% [Working]\r            \rGet:1 http://ppa.launchpad.net/c2d4u.team/c2d4u4.0+/ubuntu bionic InRelease [15.9 kB]\n",
            "\r0% [Connecting to archive.ubuntu.com (91.189.91.39)] [Connecting to security.ub\r0% [Connecting to archive.ubuntu.com (91.189.91.39)] [Connecting to security.ub\r0% [1 InRelease gpgv 15.9 kB] [Connecting to archive.ubuntu.com (91.189.91.39)]\r                                                                               \rHit:2 http://ppa.launchpad.net/cran/libgit2/ubuntu bionic InRelease\n",
            "\r0% [1 InRelease gpgv 15.9 kB] [Connecting to archive.ubuntu.com (91.189.91.39)]\r                                                                               \rHit:3 http://ppa.launchpad.net/deadsnakes/ppa/ubuntu bionic InRelease\n",
            "Get:4 https://cloud.r-project.org/bin/linux/ubuntu bionic-cran40/ InRelease [3,626 B]\n",
            "Hit:5 http://ppa.launchpad.net/graphics-drivers/ppa/ubuntu bionic InRelease\n",
            "Get:6 http://security.ubuntu.com/ubuntu bionic-security InRelease [88.7 kB]\n",
            "Hit:7 http://archive.ubuntu.com/ubuntu bionic InRelease\n",
            "Ign:8 https://developer.download.nvidia.com/compute/cuda/repos/ubuntu1804/x86_64  InRelease\n",
            "Get:9 http://archive.ubuntu.com/ubuntu bionic-updates InRelease [88.7 kB]\n",
            "Get:10 http://ppa.launchpad.net/c2d4u.team/c2d4u4.0+/ubuntu bionic/main amd64 Packages [999 kB]\n",
            "Ign:11 https://developer.download.nvidia.com/compute/machine-learning/repos/ubuntu1804/x86_64  InRelease\n",
            "Hit:12 https://developer.download.nvidia.com/compute/cuda/repos/ubuntu1804/x86_64  Release\n",
            "Hit:13 https://developer.download.nvidia.com/compute/machine-learning/repos/ubuntu1804/x86_64  Release\n",
            "Get:14 http://archive.ubuntu.com/ubuntu bionic-backports InRelease [74.6 kB]\n",
            "Fetched 1,271 kB in 2s (535 kB/s)\n",
            "Reading package lists... Done\n",
            "Reading package lists... Done\n",
            "Building dependency tree       \n",
            "Reading state information... Done\n",
            "prodigal is already the newest version (1:2.6.3-1).\n",
            "0 upgraded, 0 newly installed, 0 to remove and 55 not upgraded.\n",
            "Reading package lists... Done\n",
            "Building dependency tree       \n",
            "Reading state information... Done\n",
            "aragorn is already the newest version (1.2.38-1).\n",
            "0 upgraded, 0 newly installed, 0 to remove and 55 not upgraded.\n",
            "Reading package lists... Done\n",
            "Building dependency tree       \n",
            "Reading state information... Done\n",
            "infernal is already the newest version (1.1.2-1).\n",
            "infernal-doc is already the newest version (1.1.2-1).\n",
            "0 upgraded, 0 newly installed, 0 to remove and 55 not upgraded.\n",
            "Collecting package metadata (current_repodata.json): - \b\b\\ \b\b| \b\b/ \b\b- \b\b\\ \b\b| \b\b/ \b\b- \b\b\\ \b\b| \b\b/ \b\b- \b\b\\ \b\b| \b\b/ \b\b- \b\b\\ \b\b| \b\b/ \b\b- \b\b\\ \b\b| \b\b/ \b\b- \b\b\\ \b\b| \b\b/ \b\b- \b\b\\ \b\b| \b\b/ \b\b- \b\b\\ \b\b| \b\b/ \b\b- \b\b\\ \b\b| \b\b/ \b\b- \b\b\\ \b\b| \b\b/ \b\b- \b\b\\ \b\b| \b\b/ \b\b- \b\b\\ \b\b| \b\b/ \b\b- \b\b\\ \b\b| \b\b/ \b\b- \b\b\\ \b\b| \b\b/ \b\b- \b\b\\ \b\b| \b\b/ \b\b- \b\b\\ \b\b| \b\b/ \b\b- \b\b\\ \b\b| \b\b/ \b\b- \b\b\\ \b\b| \b\b/ \b\b- \b\b\\ \b\b| \b\b/ \b\b- \b\b\\ \b\b| \b\b/ \b\b- \b\b\\ \b\b| \b\b/ \b\b- \b\b\\ \b\b| \b\b/ \b\b- \b\b\\ \b\b| \b\b/ \b\b- \b\b\\ \b\b| \b\b/ \b\b- \b\b\\ \b\b| \b\b/ \b\b- \b\b\\ \b\b| \b\b/ \b\b- \b\b\\ \b\b| \b\b/ \b\b- \b\b\\ \b\b| \b\b/ \b\b- \b\b\\ \b\b| \b\b/ \b\b- \b\b\\ \b\b| \b\b/ \b\b- \b\b\\ \b\b| \b\b/ \b\b- \b\b\\ \b\b| \b\b/ \b\b- \b\b\\ \b\b| \b\bdone\n",
            "Solving environment: - \b\b\\ \b\b| \b\b/ \b\b- \b\b\\ \b\b| \b\b/ \b\bdone\n",
            "\n",
            "# All requested packages already installed.\n",
            "\n"
          ]
        }
      ],
      "source": [
        "#%cd /content/PPanGGOLiN\n",
        "!apt-get update -y\n",
        "!apt-get install -y prodigal\n",
        "!apt-get install -y aragorn\n",
        "!apt-get install infernal infernal-doc\n",
        "!conda install -c conda-forge -c bioconda mmseqs2 gmpy2 mafft --yes\n",
        "# Set PATH environment\n",
        "import os\n",
        "os.environ['PATH'] += \":/root/miniconda3/bin/\""
      ]
    },
    {
      "cell_type": "code",
      "execution_count": null,
      "metadata": {
        "colab": {
          "base_uri": "https://localhost:8080/"
        },
        "id": "WaeAgz1UdbKZ",
        "outputId": "e6b749d3-16cf-4681-fe9c-f11b617a6ced"
      },
      "outputs": [
        {
          "output_type": "stream",
          "name": "stdout",
          "text": [
            "Warning: 'defaults' already in 'channels' list, moving to the top\n",
            "Warning: 'r' already in 'channels' list, moving to the top\n",
            "Warning: 'bioconda' already in 'channels' list, moving to the top\n",
            "Warning: 'conda-forge' already in 'channels' list, moving to the top\n",
            "Reading package lists... Done\n",
            "Building dependency tree       \n",
            "Reading state information... Done\n",
            "libmpc-dev is already the newest version (1.1.0-1).\n",
            "libmpfr-dev is already the newest version (4.0.1-1).\n",
            "0 upgraded, 0 newly installed, 0 to remove and 55 not upgraded.\n",
            "Requirement already satisfied: featuretools in /usr/local/lib/python3.7/dist-packages (1.8.0)\n",
            "Requirement already satisfied: dask[dataframe]>=2021.10.0 in /usr/local/lib/python3.7/dist-packages (from featuretools) (2022.2.0)\n",
            "Requirement already satisfied: numpy>=1.21.0 in /usr/local/lib/python3.7/dist-packages (from featuretools) (1.21.6)\n",
            "Requirement already satisfied: tqdm>=4.32.0 in /usr/local/lib/python3.7/dist-packages (from featuretools) (4.64.0)\n",
            "Requirement already satisfied: holidays>=0.13 in /usr/local/lib/python3.7/dist-packages (from featuretools) (0.13)\n",
            "Requirement already satisfied: woodwork>=0.14.0 in /usr/local/lib/python3.7/dist-packages (from featuretools) (0.15.0)\n",
            "Requirement already satisfied: distributed>=2021.10.0 in /usr/local/lib/python3.7/dist-packages (from featuretools) (2022.2.0)\n",
            "Requirement already satisfied: scipy>=1.3.3 in /usr/local/lib/python3.7/dist-packages (from featuretools) (1.4.1)\n",
            "Requirement already satisfied: click>=7.0.0 in /usr/local/lib/python3.7/dist-packages (from featuretools) (7.1.2)\n",
            "Requirement already satisfied: cloudpickle>=1.5.0 in /usr/local/lib/python3.7/dist-packages (from featuretools) (2.0.0)\n",
            "Requirement already satisfied: pandas>=1.3.0 in /usr/local/lib/python3.7/dist-packages (from featuretools) (1.3.5)\n",
            "Requirement already satisfied: psutil>=5.6.6 in /usr/local/lib/python3.7/dist-packages (from featuretools) (5.9.0)\n",
            "Requirement already satisfied: packaging>=20.0 in /usr/local/lib/python3.7/dist-packages (from dask[dataframe]>=2021.10.0->featuretools) (21.3)\n",
            "Requirement already satisfied: toolz>=0.8.2 in /usr/local/lib/python3.7/dist-packages (from dask[dataframe]>=2021.10.0->featuretools) (0.11.2)\n",
            "Requirement already satisfied: pyyaml>=5.3.1 in /usr/local/lib/python3.7/dist-packages (from dask[dataframe]>=2021.10.0->featuretools) (6.0)\n",
            "Requirement already satisfied: fsspec>=0.6.0 in /usr/local/lib/python3.7/dist-packages (from dask[dataframe]>=2021.10.0->featuretools) (2022.3.0)\n",
            "Requirement already satisfied: partd>=0.3.10 in /usr/local/lib/python3.7/dist-packages (from dask[dataframe]>=2021.10.0->featuretools) (1.2.0)\n",
            "Requirement already satisfied: tblib>=1.6.0 in /usr/local/lib/python3.7/dist-packages (from distributed>=2021.10.0->featuretools) (1.7.0)\n",
            "Requirement already satisfied: sortedcontainers!=2.0.0,!=2.0.1 in /usr/local/lib/python3.7/dist-packages (from distributed>=2021.10.0->featuretools) (2.4.0)\n",
            "Requirement already satisfied: zict>=0.1.3 in /usr/local/lib/python3.7/dist-packages (from distributed>=2021.10.0->featuretools) (2.1.0)\n",
            "Requirement already satisfied: setuptools in /usr/local/lib/python3.7/dist-packages (from distributed>=2021.10.0->featuretools) (57.4.0)\n",
            "Requirement already satisfied: tornado>=5 in /usr/local/lib/python3.7/dist-packages (from distributed>=2021.10.0->featuretools) (5.1.1)\n",
            "Requirement already satisfied: msgpack>=0.6.0 in /usr/local/lib/python3.7/dist-packages (from distributed>=2021.10.0->featuretools) (1.0.3)\n",
            "Requirement already satisfied: jinja2 in /usr/local/lib/python3.7/dist-packages (from distributed>=2021.10.0->featuretools) (2.11.3)\n",
            "Requirement already satisfied: hijri-converter in /usr/local/lib/python3.7/dist-packages (from holidays>=0.13->featuretools) (2.2.3)\n",
            "Requirement already satisfied: convertdate>=2.3.0 in /usr/local/lib/python3.7/dist-packages (from holidays>=0.13->featuretools) (2.4.0)\n",
            "Requirement already satisfied: python-dateutil in /usr/local/lib/python3.7/dist-packages (from holidays>=0.13->featuretools) (2.8.2)\n",
            "Requirement already satisfied: korean-lunar-calendar in /usr/local/lib/python3.7/dist-packages (from holidays>=0.13->featuretools) (0.2.1)\n",
            "Requirement already satisfied: pymeeus<=1,>=0.3.13 in /usr/local/lib/python3.7/dist-packages (from convertdate>=2.3.0->holidays>=0.13->featuretools) (0.5.11)\n",
            "Requirement already satisfied: pyparsing!=3.0.5,>=2.0.2 in /usr/local/lib/python3.7/dist-packages (from packaging>=20.0->dask[dataframe]>=2021.10.0->featuretools) (3.0.8)\n",
            "Requirement already satisfied: pytz>=2017.3 in /usr/local/lib/python3.7/dist-packages (from pandas>=1.3.0->featuretools) (2022.1)\n",
            "Requirement already satisfied: locket in /usr/local/lib/python3.7/dist-packages (from partd>=0.3.10->dask[dataframe]>=2021.10.0->featuretools) (1.0.0)\n",
            "Requirement already satisfied: six>=1.5 in /usr/local/lib/python3.7/dist-packages (from python-dateutil->holidays>=0.13->featuretools) (1.15.0)\n",
            "Requirement already satisfied: scikit-learn>=0.22 in /usr/local/lib/python3.7/dist-packages (from woodwork>=0.14.0->featuretools) (1.0.2)\n",
            "Requirement already satisfied: joblib>=0.11 in /usr/local/lib/python3.7/dist-packages (from scikit-learn>=0.22->woodwork>=0.14.0->featuretools) (1.1.0)\n",
            "Requirement already satisfied: threadpoolctl>=2.0.0 in /usr/local/lib/python3.7/dist-packages (from scikit-learn>=0.22->woodwork>=0.14.0->featuretools) (3.1.0)\n",
            "Requirement already satisfied: heapdict in /usr/local/lib/python3.7/dist-packages (from zict>=0.1.3->distributed>=2021.10.0->featuretools) (1.0.1)\n",
            "Requirement already satisfied: MarkupSafe>=0.23 in /usr/local/lib/python3.7/dist-packages (from jinja2->distributed>=2021.10.0->featuretools) (2.0.1)\n",
            "Requirement already satisfied: gmpy2 in /usr/local/lib/python3.7/dist-packages (2.1.2)\n",
            "Requirement already satisfied: tqdm in /usr/local/lib/python3.7/dist-packages (4.64.0)\n",
            "Requirement already satisfied: networkx in /usr/local/lib/python3.7/dist-packages (2.6.3)\n",
            "Requirement already satisfied: scipy in /usr/local/lib/python3.7/dist-packages (1.4.1)\n",
            "Requirement already satisfied: numpy>=1.13.3 in /usr/local/lib/python3.7/dist-packages (from scipy) (1.21.6)\n",
            "Requirement already satisfied: plotly in /usr/local/lib/python3.7/dist-packages (5.5.0)\n",
            "Requirement already satisfied: six in /usr/local/lib/python3.7/dist-packages (from plotly) (1.15.0)\n",
            "Requirement already satisfied: tenacity>=6.2.0 in /usr/local/lib/python3.7/dist-packages (from plotly) (8.0.1)\n",
            "Requirement already satisfied: pandas in /usr/local/lib/python3.7/dist-packages (1.3.5)\n",
            "Requirement already satisfied: python-dateutil>=2.7.3 in /usr/local/lib/python3.7/dist-packages (from pandas) (2.8.2)\n",
            "Requirement already satisfied: pytz>=2017.3 in /usr/local/lib/python3.7/dist-packages (from pandas) (2022.1)\n",
            "Requirement already satisfied: numpy>=1.17.3 in /usr/local/lib/python3.7/dist-packages (from pandas) (1.21.6)\n",
            "Requirement already satisfied: six>=1.5 in /usr/local/lib/python3.7/dist-packages (from python-dateutil>=2.7.3->pandas) (1.15.0)\n",
            "Requirement already satisfied: colorlover in /usr/local/lib/python3.7/dist-packages (0.3.0)\n",
            "\u001b[31mERROR: Could not find a version that satisfies the requirement libiconv (from versions: none)\u001b[0m\n",
            "\u001b[31mERROR: No matching distribution found for libiconv\u001b[0m\n",
            "Requirement already satisfied: mkl in /usr/local/lib/python3.7/dist-packages (2019.0)\n",
            "Requirement already satisfied: intel-openmp in /usr/local/lib/python3.7/dist-packages (from mkl) (2022.0.2)\n",
            "Requirement already satisfied: tables in /usr/local/lib/python3.7/dist-packages (3.7.0)\n",
            "Requirement already satisfied: numexpr>=2.6.2 in /usr/local/lib/python3.7/dist-packages (from tables) (2.8.1)\n",
            "Requirement already satisfied: numpy>=1.19.0 in /usr/local/lib/python3.7/dist-packages (from tables) (1.21.6)\n",
            "Requirement already satisfied: packaging in /usr/local/lib/python3.7/dist-packages (from tables) (21.3)\n",
            "Requirement already satisfied: pyparsing!=3.0.5,>=2.0.2 in /usr/local/lib/python3.7/dist-packages (from packaging->tables) (3.0.8)\n",
            "Requirement already satisfied: query in /usr/local/lib/python3.7/dist-packages (0.1.4)\n",
            "Requirement already satisfied: target in /usr/local/lib/python3.7/dist-packages (0.0.11)\n",
            "Requirement already satisfied: pandas>=0.16 in /usr/local/lib/python3.7/dist-packages (from query) (1.3.5)\n",
            "Requirement already satisfied: sqlalchemy>=0.9.9 in /usr/local/lib/python3.7/dist-packages (from query) (1.4.35)\n",
            "Requirement already satisfied: pytz>=2017.3 in /usr/local/lib/python3.7/dist-packages (from pandas>=0.16->query) (2022.1)\n",
            "Requirement already satisfied: python-dateutil>=2.7.3 in /usr/local/lib/python3.7/dist-packages (from pandas>=0.16->query) (2.8.2)\n",
            "Requirement already satisfied: numpy>=1.17.3 in /usr/local/lib/python3.7/dist-packages (from pandas>=0.16->query) (1.21.6)\n",
            "Requirement already satisfied: six>=1.5 in /usr/local/lib/python3.7/dist-packages (from python-dateutil>=2.7.3->pandas>=0.16->query) (1.15.0)\n",
            "Requirement already satisfied: importlib-metadata in /usr/local/lib/python3.7/dist-packages (from sqlalchemy>=0.9.9->query) (4.11.3)\n",
            "Requirement already satisfied: greenlet!=0.4.17 in /usr/local/lib/python3.7/dist-packages (from sqlalchemy>=0.9.9->query) (1.1.2)\n",
            "Requirement already satisfied: tornado>=4.4.2 in /usr/local/lib/python3.7/dist-packages (from target) (5.1.1)\n",
            "Requirement already satisfied: watchdog in /usr/local/lib/python3.7/dist-packages (from target) (2.1.7)\n",
            "Requirement already satisfied: zipp>=0.5 in /usr/local/lib/python3.7/dist-packages (from importlib-metadata->sqlalchemy>=0.9.9->query) (3.8.0)\n",
            "Requirement already satisfied: typing-extensions>=3.6.4 in /usr/local/lib/python3.7/dist-packages (from importlib-metadata->sqlalchemy>=0.9.9->query) (4.1.1)\n",
            "Requirement already satisfied: urllib3 in /usr/local/lib/python3.7/dist-packages (1.24.3)\n",
            "Requirement already satisfied: bokeh in /usr/local/lib/python3.7/dist-packages (2.3.3)\n",
            "Requirement already satisfied: packaging>=16.8 in /usr/local/lib/python3.7/dist-packages (from bokeh) (21.3)\n",
            "Requirement already satisfied: typing-extensions>=3.7.4 in /usr/local/lib/python3.7/dist-packages (from bokeh) (4.1.1)\n",
            "Requirement already satisfied: tornado>=5.1 in /usr/local/lib/python3.7/dist-packages (from bokeh) (5.1.1)\n",
            "Requirement already satisfied: pillow>=7.1.0 in /usr/local/lib/python3.7/dist-packages (from bokeh) (7.1.2)\n",
            "Requirement already satisfied: Jinja2>=2.9 in /usr/local/lib/python3.7/dist-packages (from bokeh) (2.11.3)\n",
            "Requirement already satisfied: PyYAML>=3.10 in /usr/local/lib/python3.7/dist-packages (from bokeh) (6.0)\n",
            "Requirement already satisfied: python-dateutil>=2.1 in /usr/local/lib/python3.7/dist-packages (from bokeh) (2.8.2)\n",
            "Requirement already satisfied: numpy>=1.11.3 in /usr/local/lib/python3.7/dist-packages (from bokeh) (1.21.6)\n",
            "Requirement already satisfied: MarkupSafe>=0.23 in /usr/local/lib/python3.7/dist-packages (from Jinja2>=2.9->bokeh) (2.0.1)\n",
            "Requirement already satisfied: pyparsing!=3.0.5,>=2.0.2 in /usr/local/lib/python3.7/dist-packages (from packaging>=16.8->bokeh) (3.0.8)\n",
            "Requirement already satisfied: six>=1.5 in /usr/local/lib/python3.7/dist-packages (from python-dateutil>=2.1->bokeh) (1.15.0)\n"
          ]
        }
      ],
      "source": [
        "#b. Install Conda Requirements\n",
        "!conda config --add channels defaults\n",
        "!conda config --add channels r\n",
        "!conda config --add channels bioconda\n",
        "!conda config --add channels conda-forge\n",
        "#!conda install --channel conda-forge featuretools --yes\n",
        "!apt-get install libmpfr-dev libmpc-dev\n",
        "!pip install featuretools\n",
        "!pip install gmpy2\n",
        "!pip install tqdm\n",
        "!pip install networkx\n",
        "!pip install scipy\n",
        "!pip install plotly\n",
        "!pip install pandas\n",
        "!pip install colorlover\n",
        "!pip install libiconv\n",
        "!pip install mkl\n",
        "!pip install tables\n",
        "!pip install query target\n",
        "!pip install urllib3\n",
        "!pip install bokeh"
      ]
    },
    {
      "cell_type": "code",
      "execution_count": null,
      "metadata": {
        "id": "vqAetgXvRXME"
      },
      "outputs": [],
      "source": [
        "#Use this only to remove files from the FASTA and GBFF folder to freshly copy files from GenomeData3\n",
        "import os\n",
        "dir = '/content/PPanGGOLiN/testingDataset/GBFF'\n",
        "for f in os.listdir(dir):\n",
        "  os.remove(os.path.join (dir, f))\n",
        "dir = '/content/PPanGGOLiN/testingDataset/FASTA'\n",
        "for f in os.listdir(dir):\n",
        "  os.remove(os.path.join (dir, f))"
      ]
    },
    {
      "cell_type": "code",
      "execution_count": null,
      "metadata": {
        "colab": {
          "base_uri": "https://localhost:8080/"
        },
        "id": "MBF1EOoMKqIw",
        "outputId": "752aac99-8838-4a79-e503-1810e568fe1d"
      },
      "outputs": [
        {
          "output_type": "stream",
          "name": "stdout",
          "text": [
            "usage: ppanggolin [-h] [-v]  ...\n",
            "\n",
            "Depicting microbial species diversity via a Partitioned PanGenome Graph Of Linked Neighbors\n",
            "\n",
            "optional arguments:\n",
            "  -h, --help     show this help message and exit\n",
            "  -v, --version  show program's version number and exit\n",
            "\n",
            "subcommands:\n",
            "  \n",
            "  All of the following subcommands have their own set of options. To see them for a given subcommand, use it with -h or --help, as such:\n",
            "    ppanggolin <subcommand> -h\n",
            "  \n",
            "    Basic:\n",
            "      all           Easy workflow to run all possible analysis\n",
            "      workflow      Easy workflow to run a pangenome analysis in one go\n",
            "      panrgp        Easy workflow to run a pangenome analysis with genomic islands and spots of insertion detection\n",
            "      panmodule     Easy workflow to run a pangenome analysis with module prediction\n",
            "    \n",
            "    Expert:\n",
            "      annotate      Annotate genomes\n",
            "      cluster       Cluster proteins in protein families\n",
            "      graph         Create the pangenome graph\n",
            "      partition     Partition the pangenome graph\n",
            "      rarefaction   Compute the rarefaction curve of the pangenome\n",
            "      msa           Compute Multiple Sequence Alignments for pangenome gene families\n",
            "    \n",
            "    Output:\n",
            "      draw          Draw figures representing the pangenome through different aspects\n",
            "      write         Writes 'flat' files representing the pangenome that can be used with other software\n",
            "      fasta         Writes fasta files for different elements of the pangenome\n",
            "      info          Prints information about a given pangenome graph file\n",
            "      metrics       Compute several metrics on a given pangenome\n",
            "    \n",
            "    Regions of genomic Plasticity:\n",
            "      align        aligns a genome or a set of proteins to the pangenome gene families representatives and predict information from it\n",
            "      rgp          predicts Regions of Genomic Plasticity in the genomes of your pangenome\n",
            "      spot         predicts spots in your pangenome\n",
            "      module       Predicts functional modules in your pangenome\n",
            "    \n",
            "    Genomic context:\n",
            "      context      Local genomic context analysis\n",
            "    \n",
            "\n",
            "  \n",
            "ppanggolin 1.2.78\n"
          ]
        }
      ],
      "source": [
        "#Test install. If there is a problem from one of the dependencies it should appear then.\n",
        "!ppanggolin -h\n",
        "!ppanggolin --version"
      ]
    },
    {
      "cell_type": "markdown",
      "metadata": {
        "id": "N90SOgizMcEo"
      },
      "source": [
        "**3. GET DATA : Copy the data directory in your drive**"
      ]
    },
    {
      "cell_type": "code",
      "execution_count": null,
      "metadata": {
        "colab": {
          "base_uri": "https://localhost:8080/"
        },
        "id": "2uZKEq3QMf8Y",
        "outputId": "7b681a09-c755-4b12-cc12-9a27840936e8"
      },
      "outputs": [
        {
          "output_type": "stream",
          "name": "stdout",
          "text": [
            "/content/PPanGGOLiN/testingDataset/GenomeData3\n"
          ]
        }
      ],
      "source": [
        "#Update mmseq From cluster.py\n",
        "#%cp -r /content/drive/MyDrive/ColabNotebooks/Dataset/CodeRunner/QG_Data/FileConfigure/cluster.py /usr/local/lib/python3.7/dist-packages/ppanggolin-*/ppanggolin/cluster/\n",
        "!chmod -R 777 /tmp/\n",
        "# Copy the data directory in the drive to testingDataset\n",
        "%cp -r /content/drive/MyDrive/ColabNotebooks/Dataset/CodeRunner/GenomeData3/ /content/PPanGGOLiN/testingDataset/\n",
        "%cd /content/PPanGGOLiN/testingDataset/GenomeData3\n",
        "#Rename the NCBI_fna_Files and NCBI_gbff_Files folders to FASTA and GBFF respectively\n",
        "!sh -c 'if [ -d FASTA_Files ]; then mv FASTA_Files FASTA; fi'\n",
        "!sh -c 'if [ -d GBFF_Files ]; then mv GBFF_Files GBFF; fi'\n",
        "!sh -c 'if [ -f organisms.fasta.list.txt ]; then mv organisms.fasta.list.txt /content/PPanGGOLiN/testingDataset/my_organisms.fasta.list; fi'\n",
        "!sh -c 'if [ -f organisms.gbff.list.txt ]; then mv organisms.gbff.list.txt /content/PPanGGOLiN/testingDataset/my_organisms.gbff.list; fi'\n",
        "\n",
        "# Copy data\n",
        "%cp -r /content/PPanGGOLiN/testingDataset/GenomeData3/FASTA/* /content/PPanGGOLiN/testingDataset/FASTA\n",
        "%cp -r /content/PPanGGOLiN/testingDataset/GenomeData3/GBFF/* /content/PPanGGOLiN/testingDataset/GBFF"
      ]
    },
    {
      "cell_type": "markdown",
      "metadata": {
        "id": "1eeZLv89SIUE"
      },
      "source": [
        "# **4.Pangenome command**"
      ]
    },
    {
      "cell_type": "code",
      "execution_count": null,
      "metadata": {
        "colab": {
          "base_uri": "https://localhost:8080/"
        },
        "id": "PPMeq7xgXQPd",
        "outputId": "5eadc3b4-5027-47e5-da2e-9c979e03c52d"
      },
      "outputs": [
        {
          "output_type": "stream",
          "name": "stdout",
          "text": [
            "/content/PPanGGOLiN/testingDataset\n",
            "2022-02-20 07:51:22 main.py:l211 INFO\tCommand: /usr/local/bin/ppanggolin annotate --anno my_organisms.gbff.list --fasta my_organisms.fasta.list --output 63GenomesData -f\n",
            "2022-02-20 07:51:22 main.py:l212 INFO\tPPanGGOLiN version: 1.2.63\n",
            "2022-02-20 07:51:22 annotate.py:l397 INFO\tReading my_organisms.gbff.list the list of organism files ...\n",
            "100% 63/63 [00:21<00:00,  2.99file/s]\n",
            "2022-02-20 07:51:44 annotate.py:l420 INFO\tgene identifiers used in the provided annotation files were unique, PPanGGOLiN will use them.\n",
            "2022-02-20 07:51:44 writeBinaries.py:l590 INFO\tWriting genome annotations...\n",
            "100% 63/63 [00:00<00:00, 67.44genome/s]\n",
            "2022-02-20 07:51:45 writeBinaries.py:l608 INFO\twriting the protein coding gene dna sequences\n",
            "100% 208993/208993 [00:18<00:00, 11531.66gene/s]\n",
            "2022-02-20 07:52:03 writeBinaries.py:l653 INFO\tDone writing the pangenome. It is in file : 63GenomesData/pangenome.h5\n",
            "2022-02-20 07:52:06 main.py:l211 INFO\tCommand: /usr/local/bin/ppanggolin cluster -p 63GenomesData/pangenome.h5 --identity 0.5 --coverage 0.8\n",
            "2022-02-20 07:52:06 main.py:l212 INFO\tPPanGGOLiN version: 1.2.63\n",
            "2022-02-20 07:52:06 readBinaries.py:l39 INFO\tGetting the current pangenome's status\n",
            "2022-02-20 07:52:06 readBinaries.py:l83 INFO\tExtracting and writing CDS sequences from a .h5 pangenome file to a fasta file...\n",
            "100% 208993/208993 [00:13<00:00, 15086.72gene/s]\n",
            "2022-02-20 07:52:20 cluster.py:l212 INFO\tClustering all of the genes sequences...\n",
            "2022-02-20 07:52:20 cluster.py:l48 INFO\tCreating sequence database...\n",
            "2022-02-20 07:52:24 cluster.py:l58 INFO\tClustering sequences...\n",
            "tcmalloc: large alloc 1073750016 bytes == 0x5575a4f66000 @  0x7f2f97918887 0x7f2f97cc39bc 0x55759f4042f8 0x55759f405c4d 0x55759f403f5a 0x55759f3e51b4 0x55759f3d1203 0x7f2f96f29bf7 0x55759f3e4989\n",
            "tcmalloc: large alloc 1073750016 bytes == 0x5623ec23c000 @  0x7fa8ddaf1887 0x7fa8dde9c9bc 0x5623e74332f8 0x5623e7434c4d 0x5623e7432f5a 0x5623e74141b4 0x5623e7400203 0x7fa8dd102bf7 0x5623e7413989\n",
            "Traceback (most recent call last):\n",
            "  File \"/usr/lib/python3.7/subprocess.py\", line 1019, in wait\n",
            "    return self._wait(timeout=timeout)\n",
            "  File \"/usr/lib/python3.7/subprocess.py\", line 1653, in _wait\n",
            "    (pid, sts) = self._try_wait(0)\n",
            "  File \"/usr/lib/python3.7/subprocess.py\", line 1611, in _try_wait\n",
            "    (pid, sts) = os.waitpid(self.pid, wait_flags)\n",
            "KeyboardInterrupt\n",
            "\n",
            "During handling of the above exception, another exception occurred:\n",
            "\n",
            "Traceback (most recent call last):\n",
            "  File \"/usr/local/bin/ppanggolin\", line 33, in <module>\n",
            "    sys.exit(load_entry_point('ppanggolin==1.2.63', 'console_scripts', 'ppanggolin')())\n",
            "  File \"/usr/local/lib/python3.7/dist-packages/ppanggolin-1.2.63-py3.7-linux-x86_64.egg/ppanggolin/main.py\", line 216, in main\n",
            "    ppanggolin.cluster.launch(args)\n",
            "  File \"/usr/local/lib/python3.7/dist-packages/ppanggolin-1.2.63-py3.7-linux-x86_64.egg/ppanggolin/cluster/cluster.py\", line 326, in launch\n",
            "    disable_bar=args.disable_prog_bar)\n",
            "  File \"/usr/local/lib/python3.7/dist-packages/ppanggolin-1.2.63-py3.7-linux-x86_64.egg/ppanggolin/cluster/cluster.py\", line 213, in clustering\n",
            "    rep, tsv = firstClustering(sequenceFile, newtmpdir, cpu, code, coverage, identity, mode)\n",
            "  File \"/usr/local/lib/python3.7/dist-packages/ppanggolin-1.2.63-py3.7-linux-x86_64.egg/ppanggolin/cluster/cluster.py\", line 59, in firstClustering\n",
            "    subprocess.run(cmd, stdout=subprocess.DEVNULL, check=True)\n",
            "  File \"/usr/lib/python3.7/subprocess.py\", line 490, in run\n",
            "    stdout, stderr = process.communicate(input, timeout=timeout)\n",
            "  File \"/usr/lib/python3.7/subprocess.py\", line 956, in communicate\n",
            "    self.wait()\n",
            "  File \"/usr/lib/python3.7/subprocess.py\", line 1032, in wait\n",
            "    self._wait(timeout=sigint_timeout)\n",
            "  File \"/usr/lib/python3.7/subprocess.py\", line 1627, in _wait\n",
            "    endtime = _time() + timeout\n",
            "KeyboardInterrupt\n",
            "2022-02-20 07:57:57 main.py:l211 INFO\tCommand: /usr/local/bin/ppanggolin graph -p 63GenomesData/pangenome.h5\n",
            "2022-02-20 07:57:57 main.py:l212 INFO\tPPanGGOLiN version: 1.2.63\n",
            "2022-02-20 07:57:57 readBinaries.py:l39 INFO\tGetting the current pangenome's status\n",
            "Traceback (most recent call last):\n",
            "  File \"/usr/local/bin/ppanggolin\", line 33, in <module>\n",
            "    sys.exit(load_entry_point('ppanggolin==1.2.63', 'console_scripts', 'ppanggolin')())\n",
            "  File \"/usr/local/lib/python3.7/dist-packages/ppanggolin-1.2.63-py3.7-linux-x86_64.egg/ppanggolin/main.py\", line 218, in main\n",
            "    ppanggolin.graph.launch(args)\n",
            "  File \"/usr/local/lib/python3.7/dist-packages/ppanggolin-1.2.63-py3.7-linux-x86_64.egg/ppanggolin/graph/makeGraph.py\", line 99, in launch\n",
            "    computeNeighborsGraph(pangenome, args.remove_high_copy_number, args.force, disable_bar=args.disable_prog_bar)\n",
            "  File \"/usr/local/lib/python3.7/dist-packages/ppanggolin-1.2.63-py3.7-linux-x86_64.egg/ppanggolin/graph/makeGraph.py\", line 62, in computeNeighborsGraph\n",
            "    checkPangenomeForNeighborsGraph(pangenome, force, disable_bar=disable_bar)\n",
            "  File \"/usr/local/lib/python3.7/dist-packages/ppanggolin-1.2.63-py3.7-linux-x86_64.egg/ppanggolin/graph/makeGraph.py\", line 38, in checkPangenomeForNeighborsGraph\n",
            "    raise Exception(\"You did not cluster the genes. See the 'ppanggolin cluster' if you want to do that.\")\n",
            "Exception: You did not cluster the genes. See the 'ppanggolin cluster' if you want to do that.\n",
            "2022-02-20 07:57:58 main.py:l211 INFO\tCommand: /usr/local/bin/ppanggolin partition -p 63GenomesData/pangenome.h5\n",
            "2022-02-20 07:57:58 main.py:l212 INFO\tPPanGGOLiN version: 1.2.63\n",
            "2022-02-20 07:57:58 readBinaries.py:l39 INFO\tGetting the current pangenome's status\n",
            "Traceback (most recent call last):\n",
            "  File \"/usr/local/bin/ppanggolin\", line 33, in <module>\n",
            "    sys.exit(load_entry_point('ppanggolin==1.2.63', 'console_scripts', 'ppanggolin')())\n",
            "  File \"/usr/local/lib/python3.7/dist-packages/ppanggolin-1.2.63-py3.7-linux-x86_64.egg/ppanggolin/main.py\", line 220, in main\n",
            "    ppanggolin.nem.partition.launch(args)\n",
            "  File \"/usr/local/lib/python3.7/dist-packages/ppanggolin-1.2.63-py3.7-linux-x86_64.egg/ppanggolin/nem/partition.py\", line 501, in launch\n",
            "    args.cpu, args.seed, args.keep_tmp_files, disable_bar=args.disable_prog_bar)\n",
            "  File \"/usr/local/lib/python3.7/dist-packages/ppanggolin-1.2.63-py3.7-linux-x86_64.egg/ppanggolin/nem/partition.py\", line 367, in partition\n",
            "    checkPangenomeInfo(pangenome, needAnnotations=True, needFamilies=True, needGraph=True, disable_bar=disable_bar)\n",
            "  File \"/usr/local/lib/python3.7/dist-packages/ppanggolin-1.2.63-py3.7-linux-x86_64.egg/ppanggolin/formats/readBinaries.py\", line 416, in checkPangenomeInfo\n",
            "    raise Exception(\"Your pangenome has no gene families. See the 'cluster' subcommand.\")\n",
            "Exception: Your pangenome has no gene families. See the 'cluster' subcommand.\n",
            "Genes : 208993\n",
            "Organisms : 63\n"
          ]
        }
      ],
      "source": [
        "#Generate Pangenome Data:\n",
        "\n",
        "# Access to the testingDataset\n",
        "%cd /content/PPanGGOLiN/testingDataset/\n",
        "\n",
        "# Execution : Specify the exact name of the organisms.fasta.list file contained in the current dataset directory\n",
        "!ppanggolin annotate --anno my_organisms.gbff.list --fasta my_organisms.fasta.list --output 63GenomesData -f\n",
        "!ppanggolin cluster -p 63GenomesData/pangenome.h5 --identity 0.5 --coverage 0.8\n",
        "!ppanggolin graph -p 63GenomesData/pangenome.h5\n",
        "!ppanggolin partition -p 63GenomesData/pangenome.h5\n",
        "!ppanggolin info -p 63GenomesData/pangenome.h5 --content\n",
        "\n"
      ]
    },
    {
      "cell_type": "markdown",
      "metadata": {
        "id": "gIysMgVYb18-"
      },
      "source": [
        "**5. Output Curves & matrix**"
      ]
    },
    {
      "cell_type": "code",
      "execution_count": null,
      "metadata": {
        "colab": {
          "base_uri": "https://localhost:8080/"
        },
        "id": "yUWm3N2WRL-l",
        "outputId": "038a0d77-4001-4ba6-89c6-d9bfa2b7ed4d"
      },
      "outputs": [
        {
          "output_type": "stream",
          "name": "stdout",
          "text": [
            "/content/PPanGGOLiN/testingDataset/63GenomesData\n",
            "2022-03-17 23:31:40 main.py:l214 INFO\tCommand: /usr/local/bin/ppanggolin draw -p pangenome.h5 --tile_plot --nocloud --output 63pangenomeFigures1 -f\n",
            "2022-03-17 23:31:40 main.py:l215 INFO\tPPanGGOLiN version: 1.2.78\n",
            "Failed parsing FILTERS key\n",
            "2022-03-17 23:31:40 readBinaries.py:l39 INFO\tGetting the current pangenome's status\n",
            "Failed parsing FILTERS key\n",
            "Failed parsing FILTERS key\n",
            "Failed parsing FILTERS key\n",
            "Failed parsing FILTERS key\n",
            "2022-03-17 23:31:40 readBinaries.py:l385 INFO\tReading pangenome annotations...\n",
            "Failed parsing FILTERS key\n",
            "100% 214477/214477 [00:00<00:00, 233837.25gene/s]\n",
            "100% 63/63 [00:04<00:00, 14.33organism/s]\n",
            "2022-03-17 23:31:46 readBinaries.py:l399 INFO\tReading pangenome gene families...\n",
            "100% 208993/208993 [00:02<00:00, 99452.87gene/s]\n",
            "100% 48433/48433 [00:01<00:00, 42655.17gene family/s]\n",
            "2022-03-17 23:31:49 readBinaries.py:l407 INFO\tReading the neighbors graph edges...\n",
            "100% 205758/205758 [00:02<00:00, 82571.33contig adjacency/s]\n",
            "2022-03-17 23:31:51 tile_plot.py:l28 INFO\tDrawing the tile plot...\n",
            "2022-03-17 23:31:51 tile_plot.py:l46 INFO\tstart with matrice\n",
            "2022-03-17 23:31:51 tile_plot.py:l62 INFO\tdone with making the dendrogram to order the organisms on the plot\n",
            "2022-03-17 23:31:51 tile_plot.py:l96 INFO\tGetting the gene name(s) and the number for each tile of the plot ...\n",
            "2022-03-17 23:31:52 tile_plot.py:l106 INFO\tDone extracting names and numbers. Making the heatmap ...\n",
            "2022-03-17 23:31:53 tile_plot.py:l163 INFO\tDrawing the figure itself...\n",
            "2022-03-17 23:32:00 tile_plot.py:l165 INFO\tDone with the tile plot : '63pangenomeFigures1/tile_plot.html' \n"
          ]
        }
      ],
      "source": [
        "%cd /content/PPanGGOLiN/testingDataset/63GenomesData/\n",
        "# !ppanggolin draw -p pangenome.h5 --ucurve --tile_plot --output 63pangenomeFigures -f\n",
        "!ppanggolin draw -p pangenome.h5 --tile_plot --nocloud --output 63pangenomeFigures1 -f\n",
        "# !ppanggolin write -p pangenome.h5 --gexf --csv --output matrix -f\n",
        "# !ppanggolin write -p pangenome.h5 --light_gexf --output light_gexf -f"
      ]
    },
    {
      "cell_type": "markdown",
      "metadata": {
        "id": "Omg2DiIncJhu"
      },
      "source": [
        "**6. Regions of Genome Plasticity**"
      ]
    },
    {
      "cell_type": "code",
      "execution_count": null,
      "metadata": {
        "colab": {
          "base_uri": "https://localhost:8080/"
        },
        "id": "M5USNNnsyW3d",
        "outputId": "547713bd-c43e-45de-c96c-005cdc582a86"
      },
      "outputs": [
        {
          "name": "stdout",
          "output_type": "stream",
          "text": [
            "/content/PPanGGOLiN/testingDataset/63GenomesData\n",
            "2021-12-13 05:36:15 main.py:l211 INFO\tCommand: /usr/local/bin/ppanggolin rgp -p pangenome.h5\n",
            "2021-12-13 05:36:15 main.py:l212 INFO\tPPanGGOLiN version: 1.2.52\n",
            "2021-12-13 05:36:15 readBinaries.py:l39 INFO\tGetting the current pangenome's status\n",
            "2021-12-13 05:36:15 readBinaries.py:l342 INFO\tReading pangenome annotations...\n",
            "100% 214477/214477 [00:00<00:00, 238050.96gene/s]\n",
            "100% 63/63 [00:04<00:00, 15.41organism/s]\n",
            "2021-12-13 05:36:20 readBinaries.py:l356 INFO\tReading pangenome gene families...\n",
            "100% 208993/208993 [00:01<00:00, 121894.01gene/s]\n",
            "100% 48433/48433 [00:00<00:00, 48971.90gene family/s]\n",
            "2021-12-13 05:36:23 genomicIsland.py:l209 INFO\tDetecting multigenic families...\n",
            "2021-12-13 05:36:23 genomicIsland.py:l211 INFO\tCompute Regions of Genomic Plasticity ...\n",
            "100% 63/63 [00:01<00:00, 53.51genomes/s]\n",
            "2021-12-13 05:36:24 genomicIsland.py:l217 INFO\tPredicted 4576 RGP\n",
            "2021-12-13 05:36:24 writeBinaries.py:l635 INFO\tWriting Regions of Genomic Plasticity...\n",
            "100% 4576/4576 [00:00<00:00, 43654.40region/s]\n",
            "2021-12-13 05:36:25 writeBinaries.py:l653 INFO\tDone writing the pangenome. It is in file : pangenome.h5\n",
            "2021-12-13 05:36:27 main.py:l211 INFO\tCommand: /usr/local/bin/ppanggolin write -p pangenome.h5 --regions --output RGP-Regions -f\n",
            "2021-12-13 05:36:27 main.py:l212 INFO\tPPanGGOLiN version: 1.2.52\n",
            "2021-12-13 05:36:27 readBinaries.py:l39 INFO\tGetting the current pangenome's status\n",
            "2021-12-13 05:36:27 readBinaries.py:l342 INFO\tReading pangenome annotations...\n",
            "100% 214477/214477 [00:00<00:00, 235753.04gene/s]\n",
            "100% 63/63 [00:04<00:00, 15.48organism/s]\n",
            "2021-12-13 05:36:32 readBinaries.py:l356 INFO\tReading pangenome gene families...\n",
            "100% 208993/208993 [00:01<00:00, 123203.03gene/s]\n",
            "100% 48433/48433 [00:00<00:00, 48535.09gene family/s]\n",
            "2021-12-13 05:36:35 readBinaries.py:l371 INFO\tReading the RGP...\n",
            "100% 172746/172746 [00:00<00:00, 295235.38gene/s]\n"
          ]
        }
      ],
      "source": [
        "# Access to the testingDataset\n",
        "%cd /content/PPanGGOLiN/testingDataset/63GenomesData/\n",
        "# Execution :\n",
        "!ppanggolin rgp -p pangenome.h5\n",
        "!ppanggolin write -p pangenome.h5 --regions --output RGP-Regions -f"
      ]
    },
    {
      "cell_type": "markdown",
      "metadata": {
        "id": "EoVBm-3ocXU6"
      },
      "source": [
        " **7.Spot of Insertion**"
      ]
    },
    {
      "cell_type": "code",
      "execution_count": null,
      "metadata": {
        "colab": {
          "base_uri": "https://localhost:8080/"
        },
        "id": "oId7YSA9ZK7s",
        "outputId": "15e52e92-aee1-41cd-9b9e-d6af2cabe9c0"
      },
      "outputs": [
        {
          "name": "stdout",
          "output_type": "stream",
          "text": [
            "/content/PPanGGOLiN/testingDataset/63GenomesData\n",
            "2021-12-13 05:50:21 main.py:l211 INFO\tCommand: /usr/local/bin/ppanggolin spot -p pangenome.h5\n",
            "2021-12-13 05:50:21 main.py:l212 INFO\tPPanGGOLiN version: 1.2.52\n",
            "2021-12-13 05:50:21 readBinaries.py:l39 INFO\tGetting the current pangenome's status\n",
            "2021-12-13 05:50:21 readBinaries.py:l342 INFO\tReading pangenome annotations...\n",
            "100% 214477/214477 [00:00<00:00, 234489.45gene/s]\n",
            "100% 63/63 [00:04<00:00, 15.52organism/s]\n",
            "2021-12-13 05:50:26 readBinaries.py:l356 INFO\tReading pangenome gene families...\n",
            "100% 208993/208993 [00:01<00:00, 121699.21gene/s]\n",
            "100% 48433/48433 [00:00<00:00, 48502.00gene family/s]\n",
            "2021-12-13 05:50:28 readBinaries.py:l371 INFO\tReading the RGP...\n",
            "100% 172746/172746 [00:00<00:00, 297727.21gene/s]\n",
            "2021-12-13 05:50:29 spot.py:l127 INFO\tDetecting multigenic families...\n",
            "2021-12-13 05:50:29 spot.py:l130 INFO\tDetecting hotspots in the pangenome...\n",
            "2021-12-13 05:50:29 spot.py:l75 INFO\t1999 RGPs were not used as they are on a contig border (or have less than 3 persistent gene families until the contig border)\n",
            "2021-12-13 05:50:29 spot.py:l77 INFO\t2577 RGPs are being used to predict spots of insertion\n",
            "2021-12-13 05:50:29 spot.py:l79 INFO\t1704 number of different pairs of flanking gene families\n",
            "2021-12-13 05:50:43 spot.py:l138 INFO\t1322 spots were detected\n",
            "2021-12-13 05:50:43 writeBinaries.py:l640 INFO\tWriting Spots of Insertion...\n",
            "100% 1322/1322 [00:00<00:00, 657676.42spot/s]\n",
            "2021-12-13 05:50:43 writeBinaries.py:l653 INFO\tDone writing the pangenome. It is in file : pangenome.h5\n",
            "2021-12-13 05:50:46 main.py:l211 INFO\tCommand: /usr/local/bin/ppanggolin write -p pangenome.h5 --spots --output spots\n",
            "2021-12-13 05:50:46 main.py:l212 INFO\tPPanGGOLiN version: 1.2.52\n",
            "2021-12-13 05:50:46 readBinaries.py:l39 INFO\tGetting the current pangenome's status\n",
            "2021-12-13 05:50:46 readBinaries.py:l342 INFO\tReading pangenome annotations...\n",
            "100% 214477/214477 [00:00<00:00, 239466.68gene/s]\n",
            "100% 63/63 [00:04<00:00, 15.33organism/s]\n",
            "2021-12-13 05:50:51 readBinaries.py:l356 INFO\tReading pangenome gene families...\n",
            "100% 208993/208993 [00:01<00:00, 122014.54gene/s]\n",
            "100% 48433/48433 [00:00<00:00, 48566.05gene family/s]\n",
            "2021-12-13 05:50:53 readBinaries.py:l371 INFO\tReading the RGP...\n",
            "100% 172746/172746 [00:00<00:00, 298065.01gene/s]\n",
            "2021-12-13 05:50:54 readBinaries.py:l378 INFO\tReading the spots...\n",
            "100% 2577/2577 [00:00<00:00, 84866.14region/s]\n",
            "2021-12-13 05:50:54 writeFlat.py:l553 INFO\tDone writing spots in : 'spots/summarize_spots.tsv'\n",
            "2021-12-13 05:50:57 main.py:l211 INFO\tCommand: /usr/local/bin/ppanggolin draw -p pangenome.h5 --spots all --output spot-figures\n",
            "2021-12-13 05:50:57 main.py:l212 INFO\tPPanGGOLiN version: 1.2.52\n",
            "2021-12-13 05:50:57 readBinaries.py:l39 INFO\tGetting the current pangenome's status\n",
            "2021-12-13 05:50:57 readBinaries.py:l342 INFO\tReading pangenome annotations...\n",
            "100% 214477/214477 [00:00<00:00, 237867.67gene/s]\n",
            "100% 63/63 [00:04<00:00, 15.51organism/s]\n",
            "2021-12-13 05:51:02 readBinaries.py:l356 INFO\tReading pangenome gene families...\n",
            "100% 208993/208993 [00:01<00:00, 123719.49gene/s]\n",
            "100% 48433/48433 [00:00<00:00, 48647.43gene family/s]\n",
            "2021-12-13 05:51:05 readBinaries.py:l371 INFO\tReading the RGP...\n",
            "100% 172746/172746 [00:00<00:00, 300661.55gene/s]\n",
            "2021-12-13 05:51:05 readBinaries.py:l378 INFO\tReading the spots...\n",
            "100% 2577/2577 [00:00<00:00, 82904.86region/s]\n",
            "2021-12-13 05:51:05 draw_spot.py:l528 INFO\tDrawing 394 spots\n",
            "2021-12-13 05:51:05 draw_spot.py:l443 INFO\tOrdering genes among regions, and drawing spots...\n",
            "100% 394/394 [00:34<00:00, 11.48spot/s]\n",
            "2021-12-13 05:51:40 draw_spot.py:l502 INFO\tDone drawing spot(s), they can be found in the directory: 'spot-figures'\n"
          ]
        }
      ],
      "source": [
        "# Access to the testingDataset\n",
        "%cd /content/PPanGGOLiN/testingDataset/63GenomesData/\n",
        "# Execution :\n",
        "!ppanggolin spot -p pangenome.h5\n",
        "!ppanggolin write -p pangenome.h5 --spots --output spots\n",
        "!ppanggolin draw -p pangenome.h5 --spots all --output spot-figures"
      ]
    },
    {
      "cell_type": "markdown",
      "metadata": {
        "id": "CuqKjMa0chJa"
      },
      "source": [
        "**8. Rarefaction Curve**"
      ]
    },
    {
      "cell_type": "code",
      "execution_count": null,
      "metadata": {
        "colab": {
          "base_uri": "https://localhost:8080/"
        },
        "id": "yNi8hUHTygWc",
        "outputId": "d3d1f0e5-31d0-42f3-e11b-d9bcf338b235"
      },
      "outputs": [
        {
          "name": "stdout",
          "output_type": "stream",
          "text": [
            "/content/PPanGGOLiN/testingDataset/63GenomesData\n",
            "2021-12-13 06:24:06 main.py:l211 INFO\tCommand: /usr/local/bin/ppanggolin write -p pangenome.h5 --Rtab --output 63GenomesData/presenceabsence/\n",
            "2021-12-13 06:24:06 main.py:l212 INFO\tPPanGGOLiN version: 1.2.52\n",
            "2021-12-13 06:24:06 readBinaries.py:l39 INFO\tGetting the current pangenome's status\n",
            "2021-12-13 06:24:06 readBinaries.py:l342 INFO\tReading pangenome annotations...\n",
            "100% 214477/214477 [00:00<00:00, 239233.35gene/s]\n",
            "100% 63/63 [00:04<00:00, 15.58organism/s]\n",
            "2021-12-13 06:24:11 readBinaries.py:l356 INFO\tReading pangenome gene families...\n",
            "100% 208993/208993 [00:01<00:00, 123528.32gene/s]\n",
            "100% 48433/48433 [00:00<00:00, 48722.99gene family/s]\n",
            "2021-12-13 06:24:13 writeFlat.py:l316 INFO\tWriting the gene presence absence file ...\n",
            "2021-12-13 06:24:14 writeFlat.py:l336 INFO\tDone writing the gene presence absence file : '63GenomesData/presenceabsence//gene_presence_absence.Rtab'\n",
            "2021-12-13 06:24:16 main.py:l211 INFO\tCommand: /usr/local/bin/ppanggolin write -p pangenome.h5 --stats --output stats\n",
            "2021-12-13 06:24:16 main.py:l212 INFO\tPPanGGOLiN version: 1.2.52\n",
            "2021-12-13 06:24:16 readBinaries.py:l39 INFO\tGetting the current pangenome's status\n",
            "2021-12-13 06:24:16 readBinaries.py:l342 INFO\tReading pangenome annotations...\n",
            "100% 214477/214477 [00:00<00:00, 236477.39gene/s]\n",
            "100% 63/63 [00:04<00:00, 15.29organism/s]\n",
            "2021-12-13 06:24:21 readBinaries.py:l356 INFO\tReading pangenome gene families...\n",
            "100% 208993/208993 [00:01<00:00, 121395.25gene/s]\n",
            "100% 48433/48433 [00:01<00:00, 48374.47gene family/s]\n",
            "2021-12-13 06:24:24 writeFlat.py:l340 INFO\tWriting pangenome statistics...\n",
            "2021-12-13 06:24:24 writeFlat.py:l341 INFO\tWriting statistics on persistent duplication...\n",
            "2021-12-13 06:24:24 writeFlat.py:l363 INFO\tDone writing stats on persistent duplication\n",
            "2021-12-13 06:24:24 writeFlat.py:l364 INFO\tWriting genome per genome statistics (completeness and counts)...\n",
            "2021-12-13 06:24:25 writeFlat.py:l429 INFO\tDone writing genome per genome statistics\n"
          ]
        }
      ],
      "source": [
        "# 2. SET rarefaction\n",
        "# Access to the testingDataset\n",
        "%cd /content/PPanGGOLiN/testingDataset/63GenomesData/\n",
        "\n",
        "# Execution :\n",
        "!ppanggolin write -p pangenome.h5 --Rtab --output 63GenomesData/presenceabsence/\n",
        "!ppanggolin write -p pangenome.h5 --stats --output stats\n",
        "# !ppanggolin rarefaction -p pangenome.h5 --output rarefaction"
      ]
    },
    {
      "cell_type": "markdown",
      "metadata": {
        "id": "m4-7TCEtyoZc"
      },
      "source": [
        "**Other executions and tests**"
      ]
    },
    {
      "cell_type": "markdown",
      "metadata": {
        "id": "r1EYPSn9gM3z"
      },
      "source": [
        "**9. Writing Outputs**"
      ]
    },
    {
      "cell_type": "code",
      "execution_count": null,
      "metadata": {
        "colab": {
          "base_uri": "https://localhost:8080/"
        },
        "id": "4UmFJN4MJt1b",
        "outputId": "c172b2fa-f407-4e79-be9f-08d150449eb5"
      },
      "outputs": [
        {
          "name": "stdout",
          "output_type": "stream",
          "text": [
            "/content/PPanGGOLiN/testingDataset/63GenomesData\n",
            "2021-12-13 06:35:12 main.py:l211 INFO\tCommand: /usr/local/bin/ppanggolin write -p pangenome.h5 --csv --output matrix1\n",
            "2021-12-13 06:35:12 main.py:l212 INFO\tPPanGGOLiN version: 1.2.52\n",
            "2021-12-13 06:35:12 readBinaries.py:l39 INFO\tGetting the current pangenome's status\n",
            "2021-12-13 06:35:12 readBinaries.py:l342 INFO\tReading pangenome annotations...\n",
            "100% 214477/214477 [00:00<00:00, 235708.63gene/s]\n",
            "100% 63/63 [00:04<00:00, 15.49organism/s]\n",
            "2021-12-13 06:35:17 readBinaries.py:l356 INFO\tReading pangenome gene families...\n",
            "100% 208993/208993 [00:01<00:00, 122213.20gene/s]\n",
            "100% 48433/48433 [00:00<00:00, 48560.76gene family/s]\n",
            "2021-12-13 06:35:20 writeFlat.py:l251 INFO\tWriting the .csv file ...\n",
            "2021-12-13 06:35:22 writeFlat.py:l312 INFO\tDone writing the matrix : 'matrix1/matrix.csv'\n",
            "2021-12-13 06:35:24 main.py:l211 INFO\tCommand: /usr/local/bin/ppanggolin write -p pangenome.h5 --partitions --output partitions\n",
            "2021-12-13 06:35:24 main.py:l212 INFO\tPPanGGOLiN version: 1.2.52\n",
            "2021-12-13 06:35:24 readBinaries.py:l39 INFO\tGetting the current pangenome's status\n",
            "2021-12-13 06:35:24 readBinaries.py:l342 INFO\tReading pangenome annotations...\n",
            "100% 214477/214477 [00:00<00:00, 239205.17gene/s]\n",
            "100% 63/63 [00:04<00:00, 15.45organism/s]\n",
            "2021-12-13 06:35:29 readBinaries.py:l356 INFO\tReading pangenome gene families...\n",
            "100% 208993/208993 [00:01<00:00, 122792.78gene/s]\n",
            "100% 48433/48433 [00:00<00:00, 48979.54gene family/s]\n",
            "2021-12-13 06:35:32 writeFlat.py:l475 INFO\tWriting the list of gene families for each partitions...\n",
            "2021-12-13 06:35:32 writeFlat.py:l502 INFO\tDone writing the list of gene families for each partition\n",
            "2021-12-13 06:35:35 main.py:l211 INFO\tCommand: /usr/local/bin/ppanggolin write -p pangenome.h5 --projection --output projection\n",
            "2021-12-13 06:35:35 main.py:l212 INFO\tPPanGGOLiN version: 1.2.52\n",
            "2021-12-13 06:35:35 readBinaries.py:l39 INFO\tGetting the current pangenome's status\n",
            "2021-12-13 06:35:35 readBinaries.py:l342 INFO\tReading pangenome annotations...\n",
            "100% 214477/214477 [00:00<00:00, 241789.44gene/s]\n",
            "100% 63/63 [00:04<00:00, 15.48organism/s]\n",
            "2021-12-13 06:35:40 readBinaries.py:l356 INFO\tReading pangenome gene families...\n",
            "100% 208993/208993 [00:01<00:00, 124418.74gene/s]\n",
            "100% 48433/48433 [00:00<00:00, 48685.59gene family/s]\n",
            "2021-12-13 06:35:42 writeFlat.py:l465 INFO\tWriting the projection files...\n",
            "2021-12-13 06:35:44 writeFlat.py:l471 INFO\tDone writing the projection files\n",
            "2021-12-13 06:35:46 main.py:l211 INFO\tCommand: /usr/local/bin/ppanggolin write -p pangenome.h5 --families_tsv --output families-tsv\n",
            "2021-12-13 06:35:46 main.py:l212 INFO\tPPanGGOLiN version: 1.2.52\n",
            "2021-12-13 06:35:46 readBinaries.py:l39 INFO\tGetting the current pangenome's status\n",
            "2021-12-13 06:35:46 readBinaries.py:l342 INFO\tReading pangenome annotations...\n",
            "100% 214477/214477 [00:00<00:00, 239837.94gene/s]\n",
            "100% 63/63 [00:04<00:00, 15.45organism/s]\n",
            "2021-12-13 06:35:51 readBinaries.py:l356 INFO\tReading pangenome gene families...\n",
            "100% 208993/208993 [00:01<00:00, 124586.93gene/s]\n",
            "100% 48433/48433 [00:00<00:00, 48603.40gene family/s]\n",
            "2021-12-13 06:35:54 writeFlat.py:l506 INFO\tWriting the file providing the association between genes and gene families...\n",
            "2021-12-13 06:35:54 writeFlat.py:l514 INFO\tDone writing the file providing the association between genes and gene families : 'families-tsv/gene_families.tsv'\n"
          ]
        }
      ],
      "source": [
        "# Access to the testingDataset\n",
        "%cd /content/PPanGGOLiN/testingDataset/63GenomesData/\n",
        "\n",
        "# Execution : Specify the exact name of the organisms.fasta.list file contained in the current dataset directory\n",
        "# !ppanggolin write -p pangenome.h5 --stats --output stats\n",
        "# !ppanggolin write -p pangenome.h5 --Rtab --output presence-absence\n",
        "!ppanggolin write -p pangenome.h5 --csv --output matrix1\n",
        "!ppanggolin write -p pangenome.h5 --partitions --output partitions\n",
        "!ppanggolin write -p pangenome.h5 --projection --output projection\n",
        "!ppanggolin write -p pangenome.h5 --families_tsv --output families-tsv\n"
      ]
    },
    {
      "cell_type": "markdown",
      "metadata": {
        "id": "0aeH3-4UhRYs"
      },
      "source": [
        "**10. Output FASTA Genes**"
      ]
    },
    {
      "cell_type": "code",
      "execution_count": null,
      "metadata": {
        "colab": {
          "base_uri": "https://localhost:8080/"
        },
        "id": "8P8utbueP5H_",
        "outputId": "0d9bc102-5c10-431a-bf58-0c1a0a1507a9"
      },
      "outputs": [
        {
          "name": "stdout",
          "output_type": "stream",
          "text": [
            "/content/PPanGGOLiN/testingDataset/63GenomesData\n",
            "2021-12-13 06:45:58 main.py:l211 INFO\tCommand: /usr/local/bin/ppanggolin fasta -p pangenome.h5 --output MY_GENES --genes all\n",
            "2021-12-13 06:45:58 main.py:l212 INFO\tPPanGGOLiN version: 1.2.52\n",
            "2021-12-13 06:45:58 readBinaries.py:l39 INFO\tGetting the current pangenome's status\n",
            "2021-12-13 06:45:58 readBinaries.py:l342 INFO\tReading pangenome annotations...\n",
            "100% 214477/214477 [00:00<00:00, 239782.32gene/s]\n",
            "100% 63/63 [00:04<00:00, 15.52organism/s]\n",
            "2021-12-13 06:46:03 readBinaries.py:l356 INFO\tReading pangenome gene families...\n",
            "100% 208993/208993 [00:01<00:00, 122156.22gene/s]\n",
            "100% 48433/48433 [00:00<00:00, 48859.88gene family/s]\n",
            "2021-12-13 06:46:06 writeSequences.py:l37 INFO\tWriting all the gene nucleotide sequences...\n",
            "2021-12-13 06:46:06 writeSequences.py:l65 INFO\tWriting all of the gene nucleotide sequences...\n",
            "2021-12-13 06:46:06 writeSequences.py:l46 INFO\tThere are 208993 genes to write\n",
            "2021-12-13 06:46:06 readBinaries.py:l83 INFO\tExtracting and writing CDS sequences from a .h5 pangenome file to a fasta file...\n",
            "100% 208993/208993 [00:11<00:00, 17524.37gene/s]\n",
            "2021-12-13 06:46:18 writeSequences.py:l56 INFO\tDone writing the gene sequences : 'MY_GENES/all_genes.fna'\n",
            "2021-12-13 06:46:21 main.py:l211 INFO\tCommand: /usr/local/bin/ppanggolin fasta -p pangenome.h5 --output MY_GENES/persistent --genes persistent\n",
            "2021-12-13 06:46:21 main.py:l212 INFO\tPPanGGOLiN version: 1.2.52\n",
            "2021-12-13 06:46:21 readBinaries.py:l39 INFO\tGetting the current pangenome's status\n",
            "2021-12-13 06:46:21 readBinaries.py:l342 INFO\tReading pangenome annotations...\n",
            "100% 214477/214477 [00:00<00:00, 236334.31gene/s]\n",
            "100% 63/63 [00:04<00:00, 15.59organism/s]\n",
            "2021-12-13 06:46:26 readBinaries.py:l356 INFO\tReading pangenome gene families...\n",
            "100% 208993/208993 [00:01<00:00, 123608.78gene/s]\n",
            "100% 48433/48433 [00:01<00:00, 48148.88gene family/s]\n",
            "2021-12-13 06:46:28 writeSequences.py:l37 INFO\tWriting all the gene nucleotide sequences...\n",
            "2021-12-13 06:46:28 writeSequences.py:l68 INFO\tWriting the gene nucleotide sequences of the persistent...\n",
            "2021-12-13 06:46:28 writeSequences.py:l46 INFO\tThere are 57020 genes to write\n",
            "2021-12-13 06:46:28 readBinaries.py:l83 INFO\tExtracting and writing CDS sequences from a .h5 pangenome file to a fasta file...\n",
            "100% 208993/208993 [00:09<00:00, 22552.86gene/s]\n",
            "2021-12-13 06:46:38 writeSequences.py:l56 INFO\tDone writing the gene sequences : 'MY_GENES/persistent/persistent_genes.fna'\n",
            "2021-12-13 06:46:40 main.py:l211 INFO\tCommand: /usr/local/bin/ppanggolin fasta -p pangenome.h5 --output MY_GENES/shell --genes shell\n",
            "2021-12-13 06:46:40 main.py:l212 INFO\tPPanGGOLiN version: 1.2.52\n",
            "2021-12-13 06:46:40 readBinaries.py:l39 INFO\tGetting the current pangenome's status\n",
            "2021-12-13 06:46:40 readBinaries.py:l342 INFO\tReading pangenome annotations...\n",
            "100% 214477/214477 [00:00<00:00, 238743.70gene/s]\n",
            "100% 63/63 [00:04<00:00, 15.51organism/s]\n",
            "2021-12-13 06:46:45 readBinaries.py:l356 INFO\tReading pangenome gene families...\n",
            "100% 208993/208993 [00:01<00:00, 120481.94gene/s]\n",
            "100% 48433/48433 [00:00<00:00, 48794.44gene family/s]\n",
            "2021-12-13 06:46:48 writeSequences.py:l37 INFO\tWriting all the gene nucleotide sequences...\n",
            "2021-12-13 06:46:48 writeSequences.py:l68 INFO\tWriting the gene nucleotide sequences of the shell...\n",
            "2021-12-13 06:46:48 writeSequences.py:l46 INFO\tThere are 68791 genes to write\n",
            "2021-12-13 06:46:48 readBinaries.py:l83 INFO\tExtracting and writing CDS sequences from a .h5 pangenome file to a fasta file...\n",
            "100% 208993/208993 [00:09<00:00, 22167.55gene/s]\n",
            "2021-12-13 06:46:57 writeSequences.py:l56 INFO\tDone writing the gene sequences : 'MY_GENES/shell/shell_genes.fna'\n",
            "2021-12-13 06:47:00 main.py:l211 INFO\tCommand: /usr/local/bin/ppanggolin fasta -p pangenome.h5 --output MY_GENES/cloud --genes cloud\n",
            "2021-12-13 06:47:00 main.py:l212 INFO\tPPanGGOLiN version: 1.2.52\n",
            "2021-12-13 06:47:00 readBinaries.py:l39 INFO\tGetting the current pangenome's status\n",
            "2021-12-13 06:47:00 readBinaries.py:l342 INFO\tReading pangenome annotations...\n",
            "100% 214477/214477 [00:00<00:00, 238205.97gene/s]\n",
            "100% 63/63 [00:04<00:00, 15.44organism/s]\n",
            "2021-12-13 06:47:05 readBinaries.py:l356 INFO\tReading pangenome gene families...\n",
            "100% 208993/208993 [00:01<00:00, 119530.52gene/s]\n",
            "100% 48433/48433 [00:00<00:00, 48562.94gene family/s]\n",
            "2021-12-13 06:47:07 writeSequences.py:l37 INFO\tWriting all the gene nucleotide sequences...\n",
            "2021-12-13 06:47:07 writeSequences.py:l68 INFO\tWriting the gene nucleotide sequences of the cloud...\n",
            "2021-12-13 06:47:07 writeSequences.py:l46 INFO\tThere are 83182 genes to write\n",
            "2021-12-13 06:47:07 readBinaries.py:l83 INFO\tExtracting and writing CDS sequences from a .h5 pangenome file to a fasta file...\n",
            "100% 208993/208993 [00:09<00:00, 21385.82gene/s]\n",
            "2021-12-13 06:47:17 writeSequences.py:l56 INFO\tDone writing the gene sequences : 'MY_GENES/cloud/cloud_genes.fna'\n",
            "2021-12-13 06:47:20 main.py:l211 INFO\tCommand: /usr/local/bin/ppanggolin fasta -p pangenome.h5 --output MY_GENES/core --genes core\n",
            "2021-12-13 06:47:20 main.py:l212 INFO\tPPanGGOLiN version: 1.2.52\n",
            "2021-12-13 06:47:20 readBinaries.py:l39 INFO\tGetting the current pangenome's status\n",
            "2021-12-13 06:47:20 readBinaries.py:l342 INFO\tReading pangenome annotations...\n",
            "100% 214477/214477 [00:00<00:00, 235779.98gene/s]\n",
            "100% 63/63 [00:04<00:00, 15.26organism/s]\n",
            "2021-12-13 06:47:25 readBinaries.py:l356 INFO\tReading pangenome gene families...\n",
            "100% 208993/208993 [00:01<00:00, 121985.63gene/s]\n",
            "100% 48433/48433 [00:00<00:00, 48524.74gene family/s]\n",
            "2021-12-13 06:47:28 writeSequences.py:l37 INFO\tWriting all the gene nucleotide sequences...\n",
            "2021-12-13 06:47:28 writeSequences.py:l84 INFO\tWriting the representative gene nucleotide sequences of the core gene families...\n",
            "2021-12-13 06:47:28 writeSequences.py:l46 INFO\tThere are 28504 genes to write\n",
            "2021-12-13 06:47:28 readBinaries.py:l83 INFO\tExtracting and writing CDS sequences from a .h5 pangenome file to a fasta file...\n",
            "100% 208993/208993 [00:08<00:00, 23962.32gene/s]\n",
            "2021-12-13 06:47:36 writeSequences.py:l56 INFO\tDone writing the gene sequences : 'MY_GENES/core/core_genes.fna'\n",
            "2021-12-13 06:47:39 main.py:l211 INFO\tCommand: /usr/local/bin/ppanggolin fasta -p pangenome.h5 --output MY_GENES/softcore --genes softcore\n",
            "2021-12-13 06:47:39 main.py:l212 INFO\tPPanGGOLiN version: 1.2.52\n",
            "2021-12-13 06:47:39 readBinaries.py:l39 INFO\tGetting the current pangenome's status\n",
            "2021-12-13 06:47:39 readBinaries.py:l342 INFO\tReading pangenome annotations...\n",
            "100% 214477/214477 [00:00<00:00, 238536.82gene/s]\n",
            "100% 63/63 [00:04<00:00, 15.29organism/s]\n",
            "2021-12-13 06:47:44 readBinaries.py:l356 INFO\tReading pangenome gene families...\n",
            "100% 208993/208993 [00:01<00:00, 123264.79gene/s]\n",
            "100% 48433/48433 [00:00<00:00, 48561.90gene family/s]\n",
            "2021-12-13 06:47:46 writeSequences.py:l37 INFO\tWriting all the gene nucleotide sequences...\n",
            "2021-12-13 06:47:46 writeSequences.py:l78 INFO\tWriting the gene nucleotide sequences in softcore genome, that are present in more than 0.95 of genomes\n",
            "2021-12-13 06:47:47 writeSequences.py:l46 INFO\tThere are 44600 genes to write\n",
            "2021-12-13 06:47:47 readBinaries.py:l83 INFO\tExtracting and writing CDS sequences from a .h5 pangenome file to a fasta file...\n",
            "100% 208993/208993 [00:09<00:00, 23024.85gene/s]\n",
            "2021-12-13 06:47:56 writeSequences.py:l56 INFO\tDone writing the gene sequences : 'MY_GENES/softcore/softcore_genes.fna'\n",
            "2021-12-13 06:47:58 main.py:l211 INFO\tCommand: /usr/local/bin/ppanggolin fasta -p pangenome.h5 --output MY_GENES/rgp --genes rgp\n",
            "2021-12-13 06:47:58 main.py:l212 INFO\tPPanGGOLiN version: 1.2.52\n",
            "2021-12-13 06:47:58 readBinaries.py:l39 INFO\tGetting the current pangenome's status\n",
            "2021-12-13 06:47:58 readBinaries.py:l342 INFO\tReading pangenome annotations...\n",
            "100% 214477/214477 [00:00<00:00, 235156.37gene/s]\n",
            "100% 63/63 [00:04<00:00, 15.40organism/s]\n",
            "2021-12-13 06:48:03 readBinaries.py:l356 INFO\tReading pangenome gene families...\n",
            "100% 208993/208993 [00:01<00:00, 121523.31gene/s]\n",
            "100% 48433/48433 [00:00<00:00, 48862.54gene family/s]\n",
            "2021-12-13 06:48:06 readBinaries.py:l371 INFO\tReading the RGP...\n",
            "100% 172746/172746 [00:00<00:00, 297913.04gene/s]\n",
            "2021-12-13 06:48:06 writeSequences.py:l37 INFO\tWriting all the gene nucleotide sequences...\n",
            "2021-12-13 06:48:06 writeSequences.py:l73 INFO\tWriting the gene nucleotide sequences in RGPs...\n",
            "2021-12-13 06:48:06 writeSequences.py:l46 INFO\tThere are 201809 genes to write\n",
            "2021-12-13 06:48:07 readBinaries.py:l83 INFO\tExtracting and writing CDS sequences from a .h5 pangenome file to a fasta file...\n",
            "100% 208993/208993 [00:11<00:00, 17687.35gene/s]\n",
            "2021-12-13 06:48:18 writeSequences.py:l56 INFO\tDone writing the gene sequences : 'MY_GENES/rgp/rgp_genes.fna'\n"
          ]
        }
      ],
      "source": [
        "# Access to the testingDataset\n",
        "%cd /content/PPanGGOLiN/testingDataset/63GenomesData/\n",
        "\n",
        "#Execution : Specify the exact name of the organisms.fasta.list file contained in the current dataset directory\n",
        "!ppanggolin fasta -p pangenome.h5 --output MY_GENES --genes all\n",
        "!ppanggolin fasta -p pangenome.h5 --output MY_GENES/persistent --genes persistent\n",
        "!ppanggolin fasta -p pangenome.h5 --output MY_GENES/shell --genes shell\n",
        "!ppanggolin fasta -p pangenome.h5 --output MY_GENES/cloud --genes cloud\n",
        "!ppanggolin fasta -p pangenome.h5 --output MY_GENES/core --genes core\n",
        "!ppanggolin fasta -p pangenome.h5 --output MY_GENES/softcore --genes softcore\n",
        "!ppanggolin fasta -p pangenome.h5 --output MY_GENES/rgp --genes rgp"
      ]
    },
    {
      "cell_type": "markdown",
      "metadata": {
        "id": "MZ9badWXicaN"
      },
      "source": [
        "**11. Output FASTA Protein Families**"
      ]
    },
    {
      "cell_type": "code",
      "execution_count": null,
      "metadata": {
        "colab": {
          "base_uri": "https://localhost:8080/"
        },
        "id": "2PaKZEExBTv-",
        "outputId": "cb0c610b-35e6-4d56-b659-40db9d1d19e9"
      },
      "outputs": [
        {
          "name": "stdout",
          "output_type": "stream",
          "text": [
            "/content/PPanGGOLiN/testingDataset/63GenomesData\n",
            "2021-12-13 07:12:03 main.py:l211 INFO\tCommand: /usr/local/bin/ppanggolin fasta -p pangenome.h5 --output MY_PROT --prot_families all\n",
            "2021-12-13 07:12:03 main.py:l212 INFO\tPPanGGOLiN version: 1.2.52\n",
            "2021-12-13 07:12:03 readBinaries.py:l39 INFO\tGetting the current pangenome's status\n",
            "2021-12-13 07:12:03 readBinaries.py:l342 INFO\tReading pangenome annotations...\n",
            "100% 214477/214477 [00:00<00:00, 238887.49gene/s]\n",
            "100% 63/63 [00:04<00:00, 15.67organism/s]\n",
            "2021-12-13 07:12:08 readBinaries.py:l356 INFO\tReading pangenome gene families...\n",
            "100% 208993/208993 [00:01<00:00, 122580.66gene/s]\n",
            "100% 48433/48433 [00:00<00:00, 48519.42gene family/s]\n",
            "2021-12-13 07:12:10 writeSequences.py:l65 INFO\tWriting all of the representative amino acid sequences of the gene families...\n",
            "100% 48433/48433 [00:00<00:00, 725468.28prot families/s]\n",
            "2021-12-13 07:12:11 writeSequences.py:l123 INFO\tDone writing the representative amino acid sequences of the gene families : 'MY_PROT/all_protein_families.faa'\n",
            "2021-12-13 07:12:13 main.py:l211 INFO\tCommand: /usr/local/bin/ppanggolin fasta -p pangenome.h5 --output MY_PROT/persistent --prot_families persistent\n",
            "2021-12-13 07:12:13 main.py:l212 INFO\tPPanGGOLiN version: 1.2.52\n",
            "2021-12-13 07:12:13 readBinaries.py:l39 INFO\tGetting the current pangenome's status\n",
            "2021-12-13 07:12:13 readBinaries.py:l342 INFO\tReading pangenome annotations...\n",
            "100% 214477/214477 [00:00<00:00, 241499.17gene/s]\n",
            "100% 63/63 [00:04<00:00, 15.50organism/s]\n",
            "2021-12-13 07:12:18 readBinaries.py:l356 INFO\tReading pangenome gene families...\n",
            "100% 208993/208993 [00:01<00:00, 123093.22gene/s]\n",
            "100% 48433/48433 [00:01<00:00, 47887.74gene family/s]\n",
            "2021-12-13 07:12:21 writeSequences.py:l68 INFO\tWriting the representative amino acid sequences of the gene families of the persistent...\n",
            "100% 799/799 [00:00<00:00, 415633.00prot families/s]\n",
            "2021-12-13 07:12:21 writeSequences.py:l123 INFO\tDone writing the representative amino acid sequences of the gene families : 'MY_PROT/persistent/persistent_protein_families.faa'\n",
            "2021-12-13 07:12:23 main.py:l211 INFO\tCommand: /usr/local/bin/ppanggolin fasta -p pangenome.h5 --output MY_PROT/shell --prot_families shell\n",
            "2021-12-13 07:12:23 main.py:l212 INFO\tPPanGGOLiN version: 1.2.52\n",
            "2021-12-13 07:12:23 readBinaries.py:l39 INFO\tGetting the current pangenome's status\n",
            "2021-12-13 07:12:23 readBinaries.py:l342 INFO\tReading pangenome annotations...\n",
            "100% 214477/214477 [00:00<00:00, 233953.90gene/s]\n",
            "100% 63/63 [00:04<00:00, 15.43organism/s]\n",
            "2021-12-13 07:12:28 readBinaries.py:l356 INFO\tReading pangenome gene families...\n",
            "100% 208993/208993 [00:01<00:00, 124354.55gene/s]\n",
            "100% 48433/48433 [00:00<00:00, 48680.94gene family/s]\n",
            "2021-12-13 07:12:31 writeSequences.py:l68 INFO\tWriting the representative amino acid sequences of the gene families of the shell...\n",
            "100% 4053/4053 [00:00<00:00, 531085.45prot families/s]\n",
            "2021-12-13 07:12:31 writeSequences.py:l123 INFO\tDone writing the representative amino acid sequences of the gene families : 'MY_PROT/shell/shell_protein_families.faa'\n",
            "2021-12-13 07:12:33 main.py:l211 INFO\tCommand: /usr/local/bin/ppanggolin fasta -p pangenome.h5 --output MY_PROT/cloud --prot_families cloud\n",
            "2021-12-13 07:12:33 main.py:l212 INFO\tPPanGGOLiN version: 1.2.52\n",
            "2021-12-13 07:12:33 readBinaries.py:l39 INFO\tGetting the current pangenome's status\n",
            "2021-12-13 07:12:33 readBinaries.py:l342 INFO\tReading pangenome annotations...\n",
            "100% 214477/214477 [00:00<00:00, 227792.50gene/s]\n",
            "100% 63/63 [00:04<00:00, 15.31organism/s]\n",
            "2021-12-13 07:12:38 readBinaries.py:l356 INFO\tReading pangenome gene families...\n",
            "100% 208993/208993 [00:01<00:00, 122861.31gene/s]\n",
            "100% 48433/48433 [00:01<00:00, 48355.47gene family/s]\n",
            "2021-12-13 07:12:41 writeSequences.py:l68 INFO\tWriting the representative amino acid sequences of the gene families of the cloud...\n",
            "100% 43581/43581 [00:00<00:00, 659534.49prot families/s]\n",
            "2021-12-13 07:12:41 writeSequences.py:l123 INFO\tDone writing the representative amino acid sequences of the gene families : 'MY_PROT/cloud/cloud_protein_families.faa'\n",
            "2021-12-13 07:12:43 main.py:l211 INFO\tCommand: /usr/local/bin/ppanggolin fasta -p pangenome.h5 --output MY_PROT/core --prot_families core\n",
            "2021-12-13 07:12:43 main.py:l212 INFO\tPPanGGOLiN version: 1.2.52\n",
            "2021-12-13 07:12:43 readBinaries.py:l39 INFO\tGetting the current pangenome's status\n",
            "2021-12-13 07:12:43 readBinaries.py:l342 INFO\tReading pangenome annotations...\n",
            "100% 214477/214477 [00:00<00:00, 234749.94gene/s]\n",
            "100% 63/63 [00:04<00:00, 15.26organism/s]\n",
            "2021-12-13 07:12:48 readBinaries.py:l356 INFO\tReading pangenome gene families...\n",
            "100% 208993/208993 [00:01<00:00, 123692.81gene/s]\n",
            "100% 48433/48433 [00:00<00:00, 48489.42gene family/s]\n",
            "2021-12-13 07:12:51 writeSequences.py:l84 INFO\tWriting the representative representative amino acid sequences of the gene families of the core gene families...\n",
            "100% 326/326 [00:00<00:00, 371661.62prot families/s]\n",
            "2021-12-13 07:12:51 writeSequences.py:l123 INFO\tDone writing the representative amino acid sequences of the gene families : 'MY_PROT/core/core_protein_families.faa'\n",
            "2021-12-13 07:12:53 main.py:l211 INFO\tCommand: /usr/local/bin/ppanggolin fasta -p pangenome.h5 --output MY_PROT/softcore --prot_families softcore\n",
            "2021-12-13 07:12:53 main.py:l212 INFO\tPPanGGOLiN version: 1.2.52\n",
            "2021-12-13 07:12:53 readBinaries.py:l39 INFO\tGetting the current pangenome's status\n",
            "2021-12-13 07:12:53 readBinaries.py:l342 INFO\tReading pangenome annotations...\n",
            "100% 214477/214477 [00:00<00:00, 237050.00gene/s]\n",
            "100% 63/63 [00:04<00:00, 15.13organism/s]\n",
            "2021-12-13 07:12:59 readBinaries.py:l356 INFO\tReading pangenome gene families...\n",
            "100% 208993/208993 [00:01<00:00, 122859.31gene/s]\n",
            "100% 48433/48433 [00:01<00:00, 48385.70gene family/s]\n",
            "2021-12-13 07:13:01 writeSequences.py:l78 INFO\tWriting the representative amino acid sequences of the gene families in softcore genome, that are present in more than 0.95 of genomes\n",
            "100% 572/572 [00:00<00:00, 427654.53prot families/s]\n",
            "2021-12-13 07:13:01 writeSequences.py:l123 INFO\tDone writing the representative amino acid sequences of the gene families : 'MY_PROT/softcore/softcore_protein_families.faa'\n",
            "2021-12-13 07:13:04 main.py:l211 INFO\tCommand: /usr/local/bin/ppanggolin fasta -p pangenome.h5 --output MY_PROT/rgp --prot_families rgp\n",
            "2021-12-13 07:13:04 main.py:l212 INFO\tPPanGGOLiN version: 1.2.52\n",
            "2021-12-13 07:13:04 readBinaries.py:l39 INFO\tGetting the current pangenome's status\n",
            "2021-12-13 07:13:04 readBinaries.py:l342 INFO\tReading pangenome annotations...\n",
            "100% 214477/214477 [00:00<00:00, 239374.22gene/s]\n",
            "100% 63/63 [00:04<00:00, 15.42organism/s]\n",
            "2021-12-13 07:13:09 readBinaries.py:l356 INFO\tReading pangenome gene families...\n",
            "100% 208993/208993 [00:01<00:00, 120669.32gene/s]\n",
            "100% 48433/48433 [00:01<00:00, 48429.22gene family/s]\n",
            "2021-12-13 07:13:11 readBinaries.py:l371 INFO\tReading the RGP...\n",
            "100% 172746/172746 [00:00<00:00, 304931.75gene/s]\n",
            "2021-12-13 07:13:12 writeSequences.py:l73 INFO\tWriting the representative amino acid sequences of the gene families in RGPs...\n",
            "100% 46528/46528 [00:00<00:00, 627115.10prot families/s]\n",
            "2021-12-13 07:13:12 writeSequences.py:l123 INFO\tDone writing the representative amino acid sequences of the gene families : 'MY_PROT/rgp/rgp_protein_families.faa'\n"
          ]
        }
      ],
      "source": [
        "# Access to the testingDataset\n",
        "%cd /content/PPanGGOLiN/testingDataset/63GenomesData/\n",
        "\n",
        "# Execution : Specify the exact name of the organisms.fasta.list file contained in the current dataset directory\n",
        "!ppanggolin fasta -p pangenome.h5 --output MY_PROT --prot_families all\n",
        "!ppanggolin fasta -p pangenome.h5 --output MY_PROT/persistent --prot_families persistent\n",
        "!ppanggolin fasta -p pangenome.h5 --output MY_PROT/shell --prot_families shell\n",
        "!ppanggolin fasta -p pangenome.h5 --output MY_PROT/cloud --prot_families cloud\n",
        "!ppanggolin fasta -p pangenome.h5 --output MY_PROT/core --prot_families core\n",
        "!ppanggolin fasta -p pangenome.h5 --output MY_PROT/softcore --prot_families softcore\n",
        "!ppanggolin fasta -p pangenome.h5 --output MY_PROT/rgp --prot_families rgp"
      ]
    },
    {
      "cell_type": "code",
      "source": [
        "# Access to the testingDataset\n",
        "%cd /content/PPanGGOLiN/testingDataset/63GenomesData/\n"
      ],
      "metadata": {
        "id": "KMGVUBraLXMb"
      },
      "execution_count": null,
      "outputs": []
    },
    {
      "cell_type": "markdown",
      "metadata": {
        "id": "thAKTH1ykf8C"
      },
      "source": [
        "**12. Regions**\n",
        "To write the nucleotide sequence of the detected RGPs."
      ]
    },
    {
      "cell_type": "code",
      "execution_count": null,
      "metadata": {
        "id": "dKRao_upINcL",
        "colab": {
          "base_uri": "https://localhost:8080/"
        },
        "outputId": "beec249d-7c6b-4653-ebd6-e8ae4c08bc8b"
      },
      "outputs": [
        {
          "output_type": "stream",
          "name": "stdout",
          "text": [
            "/content/PPanGGOLiN/testingDataset/63GenomesData\n",
            "2022-04-21 19:47:41 main.py:l214 INFO\tCommand: /usr/local/bin/ppanggolin align -p pangenome.h5 -S enriched_gene_list_uniprot.fasta --identity 0.3 --draw_related --getinfo --output enriched_uniprot\n",
            "2022-04-21 19:47:41 main.py:l215 INFO\tPPanGGOLiN version: 1.2.78\n",
            "Failed parsing FILTERS key\n",
            "2022-04-21 19:47:41 readBinaries.py:l39 INFO\tGetting the current pangenome's status\n",
            "Failed parsing FILTERS key\n",
            "Failed parsing FILTERS key\n",
            "Failed parsing FILTERS key\n",
            "Failed parsing FILTERS key\n",
            "2022-04-21 19:47:41 readBinaries.py:l385 INFO\tReading pangenome annotations...\n",
            "Failed parsing FILTERS key\n",
            "100% 214477/214477 [00:01<00:00, 201913.54gene/s]\n",
            "100% 63/63 [00:04<00:00, 13.83organism/s]\n",
            "2022-04-21 19:47:46 readBinaries.py:l399 INFO\tReading pangenome gene families...\n",
            "100% 208993/208993 [00:02<00:00, 90513.87gene/s]\n",
            "100% 48433/48433 [00:01<00:00, 41574.12gene family/s]\n",
            "2022-04-21 19:47:50 readBinaries.py:l414 INFO\tReading the RGP...\n",
            "100% 172746/172746 [00:00<00:00, 264472.54gene/s]\n",
            "2022-04-21 19:47:51 readBinaries.py:l421 INFO\tReading the spots...\n",
            "100% 2577/2577 [00:00<00:00, 16646.93region/s]\n",
            "2022-04-21 19:47:51 alignOnPang.py:l46 INFO\tAligning sequences to cluster representatives...\n",
            "2022-04-21 19:48:10 alignOnPang.py:l51 INFO\tExtracting alignments...\n",
            "2022-04-21 19:48:10 alignOnPang.py:l145 INFO\tWriting RGP and spot information related to hits in the pangenome\n",
            "2022-04-21 19:48:11 alignOnPang.py:l166 INFO\tDrawing the 229 spots with more than 1 organization related to hits of the input sequences...\n",
            "2022-04-21 19:48:11 draw_spot.py:l448 INFO\tOrdering genes among regions, and drawing spots...\n",
            "100% 229/229 [00:22<00:00, 10.16spot/s]\n",
            "2022-04-21 19:48:33 draw_spot.py:l507 INFO\tDone drawing spot(s), they can be found in the directory: 'enriched_uniprot'\n",
            "2022-04-21 19:48:36 alignOnPang.py:l181 INFO\tFile listing RGP and spots where sequences of interest are located : 'enriched_uniprot/info_input_seq.tsv'\n",
            "2022-04-21 19:48:36 alignOnPang.py:l249 INFO\tsequences partition projection : 'enriched_uniprot/sequences_partition_projection.tsv'\n",
            "2022-04-21 19:48:36 alignOnPang.py:l250 INFO\t116 sequences over 120 have at least one hit in the pangenome.\n",
            "2022-04-21 19:48:36 alignOnPang.py:l251 INFO\tBlast-tab file of the alignment : 'enriched_uniprot/input_to_pangenome_associations.blast-tab'\n"
          ]
        }
      ],
      "source": [
        "#Align selected gene FASTA files with the output data\n",
        "%cd /content/PPanGGOLiN/testingDataset/63GenomesData/\n",
        "!ppanggolin align -p pangenome.h5 -S enriched_gene_list_uniprot.fasta --identity 0.3 --draw_related --getinfo --output enriched_uniprot"
      ]
    },
    {
      "cell_type": "code",
      "execution_count": null,
      "metadata": {
        "colab": {
          "base_uri": "https://localhost:8080/"
        },
        "id": "2RQbjZl7kdlK",
        "outputId": "8625f629-8923-4472-a343-62f266b60f5a"
      },
      "outputs": [
        {
          "name": "stdout",
          "output_type": "stream",
          "text": [
            "/content/PPanGGOLiN/testingDataset/63GenomesData\n",
            "Traceback (most recent call last):\n",
            "  File \"/usr/local/bin/ppanggolin\", line 33, in <module>\n",
            "    sys.exit(load_entry_point('ppanggolin==1.2.52', 'console_scripts', 'ppanggolin')())\n",
            "  File \"/usr/local/lib/python3.7/dist-packages/ppanggolin-1.2.52-py3.7-linux-x86_64.egg/ppanggolin/main.py\", line 194, in main\n",
            "    checkInputFiles(fasta=args.fasta)\n",
            "  File \"/usr/local/lib/python3.7/dist-packages/ppanggolin-1.2.52-py3.7-linux-x86_64.egg/ppanggolin/main.py\", line 79, in checkInputFiles\n",
            "    raise FileNotFoundError(f\"No such file or directory: '{fasta}'\")\n",
            "FileNotFoundError: No such file or directory: 'organisms.gbff.list.txt'\n"
          ]
        }
      ],
      "source": [
        "# Access to the testingDataset\n",
        "%cd /content/PPanGGOLiN/testingDataset/63GenomesData/\n",
        "\n",
        "# Execution : Specify the exact name of the organisms.fasta.list file contained in the current dataset directory\n",
        "!ppanggolin fasta -p pangenome.h5 --output MYREGIONS --regions all --fasta organisms.gbff.list.txt"
      ]
    },
    {
      "cell_type": "markdown",
      "metadata": {
        "id": "5NDeMQsxm6Jn"
      },
      "source": [
        "**13. Phylo**"
      ]
    },
    {
      "cell_type": "code",
      "execution_count": null,
      "metadata": {
        "colab": {
          "base_uri": "https://localhost:8080/"
        },
        "id": "dme-N9XrUDIa",
        "outputId": "055edcd7-e51d-488b-fd7c-8f13eaeb6787"
      },
      "outputs": [
        {
          "name": "stdout",
          "output_type": "stream",
          "text": [
            "/content/PPanGGOLiN/testingDataset/63GenomesData\n",
            "2021-12-13 07:23:10 main.py:l211 INFO\tCommand: /usr/local/bin/ppanggolin msa -p pangenome.h5 --phylo -o /content/PPanGGOLiN/testingDataset/63GenomesData/Phylo\n",
            "2021-12-13 07:23:10 main.py:l212 INFO\tPPanGGOLiN version: 1.2.52\n",
            "2021-12-13 07:23:10 readBinaries.py:l39 INFO\tGetting the current pangenome's status\n",
            "2021-12-13 07:23:10 readBinaries.py:l342 INFO\tReading pangenome annotations...\n",
            "100% 214477/214477 [00:00<00:00, 235565.86gene/s]\n",
            "100% 63/63 [00:04<00:00, 15.53organism/s]\n",
            "2021-12-13 07:23:15 readBinaries.py:l348 INFO\tReading pangenome gene dna sequences...\n",
            "100% 208993/208993 [00:11<00:00, 18194.66gene/s]\n",
            "2021-12-13 07:23:26 readBinaries.py:l356 INFO\tReading pangenome gene families...\n",
            "100% 208993/208993 [00:01<00:00, 122933.19gene/s]\n",
            "100% 48433/48433 [00:00<00:00, 49423.72gene family/s]\n",
            "2021-12-13 07:23:29 writeMSA.py:l192 INFO\tDoing MSA for core families...\n",
            "2021-12-13 07:23:29 writeMSA.py:l110 INFO\tPreparing input files for MSA...\n",
            "100% 326/326 [00:01<00:00, 197.59family/s]\n",
            "2021-12-13 07:23:31 writeMSA.py:l121 INFO\tComputing the MSA ...\n",
            " 64% 210/326 [00:55<00:33,  3.44family/s]multiprocessing.pool.RemoteTraceback: \n",
            "\"\"\"\n",
            "Traceback (most recent call last):\n",
            "  File \"/usr/lib/python3.7/multiprocessing/pool.py\", line 121, in worker\n",
            "    result = (True, func(*args, **kwds))\n",
            "  File \"/usr/local/lib/python3.7/dist-packages/ppanggolin-1.2.52-py3.7-linux-x86_64.egg/ppanggolin/formats/writeMSA.py\", line 102, in launchMultiMafft\n",
            "    launchMafft(*args)\n",
            "  File \"/usr/local/lib/python3.7/dist-packages/ppanggolin-1.2.52-py3.7-linux-x86_64.egg/ppanggolin/formats/writeMSA.py\", line 98, in launchMafft\n",
            "    subprocess.run(cmd, stdout=open(outname, \"w\"), stderr=subprocess.DEVNULL, check=True)  #\n",
            "  File \"/usr/lib/python3.7/subprocess.py\", line 512, in run\n",
            "    output=stdout, stderr=stderr)\n",
            "subprocess.CalledProcessError: Command '['mafft', '--thread', '1', '/tmp/tmpyaz8a9_f/gnl|Prokka|PJOFBHAB_01687.fasta']' returned non-zero exit status 1.\n",
            "\"\"\"\n",
            "\n",
            "The above exception was the direct cause of the following exception:\n",
            "\n",
            "Traceback (most recent call last):\n",
            "  File \"/usr/local/bin/ppanggolin\", line 33, in <module>\n",
            "    sys.exit(load_entry_point('ppanggolin==1.2.52', 'console_scripts', 'ppanggolin')())\n",
            "  File \"/usr/local/lib/python3.7/dist-packages/ppanggolin-1.2.52-py3.7-linux-x86_64.egg/ppanggolin/main.py\", line 232, in main\n",
            "    ppanggolin.formats.launchMSA(args)\n",
            "  File \"/usr/local/lib/python3.7/dist-packages/ppanggolin-1.2.52-py3.7-linux-x86_64.egg/ppanggolin/formats/writeMSA.py\", line 218, in launchMSA\n",
            "    force=args.force, disable_bar=args.disable_prog_bar)\n",
            "  File \"/usr/local/lib/python3.7/dist-packages/ppanggolin-1.2.52-py3.7-linux-x86_64.egg/ppanggolin/formats/writeMSA.py\", line 199, in writeMSAFiles\n",
            "    disable_bar=disable_bar)\n",
            "  File \"/usr/local/lib/python3.7/dist-packages/ppanggolin-1.2.52-py3.7-linux-x86_64.egg/ppanggolin/formats/writeMSA.py\", line 124, in computeMSA\n",
            "    for _ in p.imap_unordered(launchMultiMafft, args):\n",
            "  File \"/usr/lib/python3.7/multiprocessing/pool.py\", line 748, in next\n",
            "    raise value\n",
            "subprocess.CalledProcessError: Command '['mafft', '--thread', '1', '/tmp/tmpyaz8a9_f/gnl|Prokka|PJOFBHAB_01687.fasta']' returned non-zero exit status 1.\n",
            " 64% 210/326 [00:56<00:31,  3.74family/s]\n",
            "2021-12-13 07:24:30 main.py:l211 INFO\tCommand: /usr/local/bin/ppanggolin msa -p pangenome.h5 -o /content/PPanGGOLiN/testingDataset/63GenomesData/msa\n",
            "2021-12-13 07:24:30 main.py:l212 INFO\tPPanGGOLiN version: 1.2.52\n",
            "2021-12-13 07:24:30 readBinaries.py:l39 INFO\tGetting the current pangenome's status\n",
            "2021-12-13 07:24:30 readBinaries.py:l342 INFO\tReading pangenome annotations...\n",
            "100% 214477/214477 [00:00<00:00, 234844.69gene/s]\n",
            "100% 63/63 [00:04<00:00, 15.24organism/s]\n",
            "2021-12-13 07:24:35 readBinaries.py:l348 INFO\tReading pangenome gene dna sequences...\n",
            "100% 208993/208993 [00:11<00:00, 18220.98gene/s]\n",
            "2021-12-13 07:24:46 readBinaries.py:l356 INFO\tReading pangenome gene families...\n",
            "100% 208993/208993 [00:01<00:00, 124085.36gene/s]\n",
            "100% 48433/48433 [00:00<00:00, 49370.04gene family/s]\n",
            "2021-12-13 07:24:49 writeMSA.py:l192 INFO\tDoing MSA for core families...\n",
            "2021-12-13 07:24:49 writeMSA.py:l110 INFO\tPreparing input files for MSA...\n",
            "100% 326/326 [00:01<00:00, 200.27family/s]\n",
            "2021-12-13 07:24:50 writeMSA.py:l121 INFO\tComputing the MSA ...\n",
            " 99% 322/326 [01:23<00:01,  3.66family/s]multiprocessing.pool.RemoteTraceback: \n",
            "\"\"\"\n",
            "Traceback (most recent call last):\n",
            "  File \"/usr/lib/python3.7/multiprocessing/pool.py\", line 121, in worker\n",
            "    result = (True, func(*args, **kwds))\n",
            "  File \"/usr/local/lib/python3.7/dist-packages/ppanggolin-1.2.52-py3.7-linux-x86_64.egg/ppanggolin/formats/writeMSA.py\", line 102, in launchMultiMafft\n",
            "    launchMafft(*args)\n",
            "  File \"/usr/local/lib/python3.7/dist-packages/ppanggolin-1.2.52-py3.7-linux-x86_64.egg/ppanggolin/formats/writeMSA.py\", line 98, in launchMafft\n",
            "    subprocess.run(cmd, stdout=open(outname, \"w\"), stderr=subprocess.DEVNULL, check=True)  #\n",
            "  File \"/usr/lib/python3.7/subprocess.py\", line 512, in run\n",
            "    output=stdout, stderr=stderr)\n",
            "subprocess.CalledProcessError: Command '['mafft', '--thread', '1', '/tmp/tmp0bfz7uu1/gnl|Prokka|PJOFBHAB_01687.fasta']' returned non-zero exit status 1.\n",
            "\"\"\"\n",
            "\n",
            "The above exception was the direct cause of the following exception:\n",
            "\n",
            "Traceback (most recent call last):\n",
            "  File \"/usr/local/bin/ppanggolin\", line 33, in <module>\n",
            "    sys.exit(load_entry_point('ppanggolin==1.2.52', 'console_scripts', 'ppanggolin')())\n",
            "  File \"/usr/local/lib/python3.7/dist-packages/ppanggolin-1.2.52-py3.7-linux-x86_64.egg/ppanggolin/main.py\", line 232, in main\n",
            "    ppanggolin.formats.launchMSA(args)\n",
            "  File \"/usr/local/lib/python3.7/dist-packages/ppanggolin-1.2.52-py3.7-linux-x86_64.egg/ppanggolin/formats/writeMSA.py\", line 218, in launchMSA\n",
            "    force=args.force, disable_bar=args.disable_prog_bar)\n",
            "  File \"/usr/local/lib/python3.7/dist-packages/ppanggolin-1.2.52-py3.7-linux-x86_64.egg/ppanggolin/formats/writeMSA.py\", line 199, in writeMSAFiles\n",
            "    disable_bar=disable_bar)\n",
            "  File \"/usr/local/lib/python3.7/dist-packages/ppanggolin-1.2.52-py3.7-linux-x86_64.egg/ppanggolin/formats/writeMSA.py\", line 124, in computeMSA\n",
            "    for _ in p.imap_unordered(launchMultiMafft, args):\n",
            "  File \"/usr/lib/python3.7/multiprocessing/pool.py\", line 748, in next\n",
            "    raise value\n",
            "subprocess.CalledProcessError: Command '['mafft', '--thread', '1', '/tmp/tmp0bfz7uu1/gnl|Prokka|PJOFBHAB_01687.fasta']' returned non-zero exit status 1.\n",
            " 99% 322/326 [01:23<00:01,  3.83family/s]\n"
          ]
        }
      ],
      "source": [
        "# Access to the testingDataset\n",
        "%cd /content/PPanGGOLiN/testingDataset/63GenomesData/\n",
        "\n",
        "# Execution : Specify the exact name of the organisms.fasta.list file contained in the current dataset directory\n",
        "!ppanggolin msa -p pangenome.h5 --phylo -o /content/PPanGGOLiN/testingDataset/63GenomesData/Phylo\n",
        "!ppanggolin msa -p pangenome.h5 -o /content/PPanGGOLiN/testingDataset/63GenomesData/msa"
      ]
    },
    {
      "cell_type": "markdown",
      "metadata": {
        "id": "jngywurQpp_-"
      },
      "source": [
        "**14. Content & Parameters**"
      ]
    },
    {
      "cell_type": "code",
      "execution_count": null,
      "metadata": {
        "colab": {
          "base_uri": "https://localhost:8080/"
        },
        "id": "MhJoHUmppFQ3",
        "outputId": "4022adce-072d-41f3-e48c-462da911cc0a"
      },
      "outputs": [
        {
          "name": "stdout",
          "output_type": "stream",
          "text": [
            "/content/PPanGGOLiN/testingDataset/63GenomesData\n",
            "Genes : 208993\n",
            "Organisms : 63\n",
            "Families : 48433\n",
            "Edges : 87033\n",
            "Persistent ( min:0.49, max:1.0, sd:0.09, mean:0.94 ): 799\n",
            "Shell ( min:0.06, max:0.98, sd:0.16, mean:0.26 ): 4053\n",
            "Cloud ( min:0.02, max:0.29, sd:0.03, mean:0.03 ): 43581\n",
            "Number of partitions : 3\n",
            "RGPs : 4576\n",
            "Spots : 1322\n",
            "annotation\n",
            "    used_local_identifiers : True\n",
            "    read_pseudogenes : False\n",
            "    read_annotations_from_file : True\n",
            "cluster\n",
            "    coverage : 0.8\n",
            "    identity : 0.5\n",
            "    defragmentation : True\n",
            "    translation_table : 11\n",
            "    read_clustering_from_file : False\n",
            "graph\n",
            "    removed_high_copy_number_families : False\n",
            "partition\n",
            "    beta : 2.5\n",
            "    free_dispersion : False\n",
            "    max_node_degree_for_smoothing : 10\n",
            "    computed_K : True\n",
            "    K : 5\n",
            "RGP\n",
            "    persistent_penalty : 3\n",
            "    variable_gain : 1\n",
            "    min_length : 3000\n",
            "    min_score : 4\n",
            "    dup_margin : 0.05\n",
            "spots\n",
            "    set_size : 3\n",
            "    overlapping_match : 2\n",
            "    exact_match : 1\n"
          ]
        }
      ],
      "source": [
        "# Access to the testingDataset\n",
        "%cd /content/PPanGGOLiN/testingDataset/63GenomesData/\n",
        "\n",
        "# Execution : Specify the exact name of the organisms.fasta.list file contained in the current dataset directory\n",
        "!ppanggolin info -p pangenome.h5 --content\n",
        "!ppanggolin info -p pangenome.h5 --parameters"
      ]
    },
    {
      "cell_type": "code",
      "execution_count": null,
      "metadata": {
        "colab": {
          "base_uri": "https://localhost:8080/"
        },
        "id": "YNNBviErUpP1",
        "outputId": "29db4944-a8d4-41a0-8f6f-a0a6aa80d28c"
      },
      "outputs": [
        {
          "name": "stdout",
          "output_type": "stream",
          "text": [
            "/content/PPanGGOLiN/testingDataset\n"
          ]
        }
      ],
      "source": [
        "cd /content/PPanGGOLiN/testingDataset/"
      ]
    },
    {
      "cell_type": "code",
      "execution_count": null,
      "metadata": {
        "id": "DhAaQw-UOxQh"
      },
      "outputs": [],
      "source": [
        "# Copy output data to my Drive\n",
        "# Example: %cp -r /Path-to-output-data /Path-to-your-Drive\n",
        "#%cp -r /content/PPanGGOLiN/testingDataset/63GenomesData/  /content/drive/MyDrive/ColabNotebooks/Dataset/CodeRunner/GenomeData3/Output_12-13-2021/\n",
        "%cp -r /content/PPanGGOLiN/testingDataset/63GenomesData/enriched_uniprot/  /content/drive/MyDrive/ColabNotebooks/Dataset/CodeRunner/GenomeData3/enriched_priya"
      ]
    }
  ],
  "metadata": {
    "colab": {
      "machine_shape": "hm",
      "provenance": [],
      "toc_visible": true,
      "include_colab_link": true
    },
    "kernelspec": {
      "display_name": "Python 3",
      "name": "python3"
    }
  },
  "nbformat": 4,
  "nbformat_minor": 0
}